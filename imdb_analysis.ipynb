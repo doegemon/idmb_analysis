{
 "cells": [
  {
   "cell_type": "markdown",
   "id": "f86936e5",
   "metadata": {},
   "source": [
    "# Análise Exploratória de Dados com Python e SQL"
   ]
  },
  {
   "cell_type": "markdown",
   "id": "db84f167",
   "metadata": {},
   "source": [
    "Elaboração de perguntas para serem respondidas usando a database do IMDB de filmes, séries, programas de TV, etc."
   ]
  },
  {
   "cell_type": "markdown",
   "id": "bf138e83",
   "metadata": {},
   "source": [
    "### Instalando e Carregando Pacotes"
   ]
  },
  {
   "cell_type": "code",
   "execution_count": null,
   "id": "53faea87",
   "metadata": {
    "ExecuteTime": {
     "end_time": "2022-05-21T17:34:25.558501Z",
     "start_time": "2022-05-21T17:33:55.232327Z"
    }
   },
   "outputs": [],
   "source": [
    "# Instalando os pacotes necessários\n",
    "!pip install -q imdb-sqlite\n",
    "!pip install -q pycountry"
   ]
  },
  {
   "cell_type": "code",
   "execution_count": 1,
   "id": "bc04730a",
   "metadata": {
    "ExecuteTime": {
     "end_time": "2022-06-11T17:32:40.139728Z",
     "start_time": "2022-06-11T17:32:37.432923Z"
    }
   },
   "outputs": [],
   "source": [
    "# Importando as bibliotecas\n",
    "import re\n",
    "import time\n",
    "import sqlite3\n",
    "import pycountry\n",
    "import numpy as np\n",
    "import pandas as pd\n",
    "import matplotlib.pyplot as plt\n",
    "import seaborn as sns\n",
    "from matplotlib import cm\n",
    "from sklearn.feature_extraction.text import CountVectorizer"
   ]
  },
  {
   "cell_type": "markdown",
   "id": "dd787440",
   "metadata": {},
   "source": [
    "### Carregando os Dados"
   ]
  },
  {
   "cell_type": "code",
   "execution_count": 2,
   "id": "c7c8f621",
   "metadata": {
    "ExecuteTime": {
     "end_time": "2022-06-11T17:32:43.955003Z",
     "start_time": "2022-06-11T17:32:43.735762Z"
    },
    "scrolled": true
   },
   "outputs": [
    {
     "name": "stderr",
     "output_type": "stream",
     "text": [
      "2022-06-11 14:32:43,930 DB already exists: (imdb.db). Refusing to modify. Exiting\n"
     ]
    }
   ],
   "source": [
    "# Baixando a database\n",
    "!imdb-sqlite"
   ]
  },
  {
   "cell_type": "code",
   "execution_count": 3,
   "id": "94e44858",
   "metadata": {
    "ExecuteTime": {
     "end_time": "2022-06-11T17:32:47.106953Z",
     "start_time": "2022-06-11T17:32:47.096958Z"
    }
   },
   "outputs": [],
   "source": [
    "# Conectando no banco de dados\n",
    "conn = sqlite3.connect('imdb.db')"
   ]
  },
  {
   "cell_type": "code",
   "execution_count": 4,
   "id": "d5b1ba96",
   "metadata": {
    "ExecuteTime": {
     "end_time": "2022-06-11T17:32:55.779686Z",
     "start_time": "2022-06-11T17:32:55.602926Z"
    }
   },
   "outputs": [
    {
     "name": "stdout",
     "output_type": "stream",
     "text": [
      "(6, 1)\n"
     ]
    },
    {
     "data": {
      "text/html": [
       "<div>\n",
       "<style scoped>\n",
       "    .dataframe tbody tr th:only-of-type {\n",
       "        vertical-align: middle;\n",
       "    }\n",
       "\n",
       "    .dataframe tbody tr th {\n",
       "        vertical-align: top;\n",
       "    }\n",
       "\n",
       "    .dataframe thead th {\n",
       "        text-align: right;\n",
       "    }\n",
       "</style>\n",
       "<table border=\"1\" class=\"dataframe\">\n",
       "  <thead>\n",
       "    <tr style=\"text-align: right;\">\n",
       "      <th></th>\n",
       "      <th>Table_Name</th>\n",
       "    </tr>\n",
       "  </thead>\n",
       "  <tbody>\n",
       "    <tr>\n",
       "      <th>0</th>\n",
       "      <td>people</td>\n",
       "    </tr>\n",
       "    <tr>\n",
       "      <th>1</th>\n",
       "      <td>titles</td>\n",
       "    </tr>\n",
       "    <tr>\n",
       "      <th>2</th>\n",
       "      <td>akas</td>\n",
       "    </tr>\n",
       "    <tr>\n",
       "      <th>3</th>\n",
       "      <td>crew</td>\n",
       "    </tr>\n",
       "    <tr>\n",
       "      <th>4</th>\n",
       "      <td>episodes</td>\n",
       "    </tr>\n",
       "    <tr>\n",
       "      <th>5</th>\n",
       "      <td>ratings</td>\n",
       "    </tr>\n",
       "  </tbody>\n",
       "</table>\n",
       "</div>"
      ],
      "text/plain": [
       "  Table_Name\n",
       "0     people\n",
       "1     titles\n",
       "2       akas\n",
       "3       crew\n",
       "4   episodes\n",
       "5    ratings"
      ]
     },
     "execution_count": 4,
     "metadata": {},
     "output_type": "execute_result"
    }
   ],
   "source": [
    "# Extraindo a lista de tabelas do database\n",
    "tabelas = pd.read_sql_query(\"SELECT NAME AS 'Table_Name' FROM sqlite_master WHERE type = 'table'\", conn)\n",
    "\n",
    "# Visualizando o resultado\n",
    "print(tabelas.shape)\n",
    "tabelas.head(6)"
   ]
  },
  {
   "cell_type": "code",
   "execution_count": 5,
   "id": "78b78b91",
   "metadata": {
    "ExecuteTime": {
     "end_time": "2022-06-11T17:33:02.335063Z",
     "start_time": "2022-06-11T17:33:02.333061Z"
    }
   },
   "outputs": [],
   "source": [
    "# Convertendo o dataframe de tabelas em uma lista\n",
    "tabelas = tabelas['Table_Name'].values.tolist()"
   ]
  },
  {
   "cell_type": "code",
   "execution_count": 6,
   "id": "48b12481",
   "metadata": {
    "ExecuteTime": {
     "end_time": "2022-06-11T17:33:05.652799Z",
     "start_time": "2022-06-11T17:33:05.621792Z"
    }
   },
   "outputs": [
    {
     "name": "stdout",
     "output_type": "stream",
     "text": [
      "Esquema da tabela: people\n"
     ]
    },
    {
     "data": {
      "text/html": [
       "<div>\n",
       "<style scoped>\n",
       "    .dataframe tbody tr th:only-of-type {\n",
       "        vertical-align: middle;\n",
       "    }\n",
       "\n",
       "    .dataframe tbody tr th {\n",
       "        vertical-align: top;\n",
       "    }\n",
       "\n",
       "    .dataframe thead th {\n",
       "        text-align: right;\n",
       "    }\n",
       "</style>\n",
       "<table border=\"1\" class=\"dataframe\">\n",
       "  <thead>\n",
       "    <tr style=\"text-align: right;\">\n",
       "      <th></th>\n",
       "      <th>cid</th>\n",
       "      <th>name</th>\n",
       "      <th>type</th>\n",
       "      <th>notnull</th>\n",
       "      <th>dflt_value</th>\n",
       "      <th>pk</th>\n",
       "    </tr>\n",
       "  </thead>\n",
       "  <tbody>\n",
       "    <tr>\n",
       "      <th>0</th>\n",
       "      <td>0</td>\n",
       "      <td>person_id</td>\n",
       "      <td>VARCHAR</td>\n",
       "      <td>0</td>\n",
       "      <td>None</td>\n",
       "      <td>1</td>\n",
       "    </tr>\n",
       "    <tr>\n",
       "      <th>1</th>\n",
       "      <td>1</td>\n",
       "      <td>name</td>\n",
       "      <td>VARCHAR</td>\n",
       "      <td>0</td>\n",
       "      <td>None</td>\n",
       "      <td>0</td>\n",
       "    </tr>\n",
       "    <tr>\n",
       "      <th>2</th>\n",
       "      <td>2</td>\n",
       "      <td>born</td>\n",
       "      <td>INTEGER</td>\n",
       "      <td>0</td>\n",
       "      <td>None</td>\n",
       "      <td>0</td>\n",
       "    </tr>\n",
       "    <tr>\n",
       "      <th>3</th>\n",
       "      <td>3</td>\n",
       "      <td>died</td>\n",
       "      <td>INTEGER</td>\n",
       "      <td>0</td>\n",
       "      <td>None</td>\n",
       "      <td>0</td>\n",
       "    </tr>\n",
       "  </tbody>\n",
       "</table>\n",
       "</div>"
      ],
      "text/plain": [
       "   cid       name     type  notnull dflt_value  pk\n",
       "0    0  person_id  VARCHAR        0       None   1\n",
       "1    1       name  VARCHAR        0       None   0\n",
       "2    2       born  INTEGER        0       None   0\n",
       "3    3       died  INTEGER        0       None   0"
      ]
     },
     "metadata": {},
     "output_type": "display_data"
    },
    {
     "name": "stdout",
     "output_type": "stream",
     "text": [
      "\n",
      "\n",
      "Esquema da tabela: titles\n"
     ]
    },
    {
     "data": {
      "text/html": [
       "<div>\n",
       "<style scoped>\n",
       "    .dataframe tbody tr th:only-of-type {\n",
       "        vertical-align: middle;\n",
       "    }\n",
       "\n",
       "    .dataframe tbody tr th {\n",
       "        vertical-align: top;\n",
       "    }\n",
       "\n",
       "    .dataframe thead th {\n",
       "        text-align: right;\n",
       "    }\n",
       "</style>\n",
       "<table border=\"1\" class=\"dataframe\">\n",
       "  <thead>\n",
       "    <tr style=\"text-align: right;\">\n",
       "      <th></th>\n",
       "      <th>cid</th>\n",
       "      <th>name</th>\n",
       "      <th>type</th>\n",
       "      <th>notnull</th>\n",
       "      <th>dflt_value</th>\n",
       "      <th>pk</th>\n",
       "    </tr>\n",
       "  </thead>\n",
       "  <tbody>\n",
       "    <tr>\n",
       "      <th>0</th>\n",
       "      <td>0</td>\n",
       "      <td>title_id</td>\n",
       "      <td>VARCHAR</td>\n",
       "      <td>0</td>\n",
       "      <td>None</td>\n",
       "      <td>1</td>\n",
       "    </tr>\n",
       "    <tr>\n",
       "      <th>1</th>\n",
       "      <td>1</td>\n",
       "      <td>type</td>\n",
       "      <td>VARCHAR</td>\n",
       "      <td>0</td>\n",
       "      <td>None</td>\n",
       "      <td>0</td>\n",
       "    </tr>\n",
       "    <tr>\n",
       "      <th>2</th>\n",
       "      <td>2</td>\n",
       "      <td>primary_title</td>\n",
       "      <td>VARCHAR</td>\n",
       "      <td>0</td>\n",
       "      <td>None</td>\n",
       "      <td>0</td>\n",
       "    </tr>\n",
       "    <tr>\n",
       "      <th>3</th>\n",
       "      <td>3</td>\n",
       "      <td>original_title</td>\n",
       "      <td>VARCHAR</td>\n",
       "      <td>0</td>\n",
       "      <td>None</td>\n",
       "      <td>0</td>\n",
       "    </tr>\n",
       "    <tr>\n",
       "      <th>4</th>\n",
       "      <td>4</td>\n",
       "      <td>is_adult</td>\n",
       "      <td>INTEGER</td>\n",
       "      <td>0</td>\n",
       "      <td>None</td>\n",
       "      <td>0</td>\n",
       "    </tr>\n",
       "    <tr>\n",
       "      <th>5</th>\n",
       "      <td>5</td>\n",
       "      <td>premiered</td>\n",
       "      <td>INTEGER</td>\n",
       "      <td>0</td>\n",
       "      <td>None</td>\n",
       "      <td>0</td>\n",
       "    </tr>\n",
       "    <tr>\n",
       "      <th>6</th>\n",
       "      <td>6</td>\n",
       "      <td>ended</td>\n",
       "      <td>INTEGER</td>\n",
       "      <td>0</td>\n",
       "      <td>None</td>\n",
       "      <td>0</td>\n",
       "    </tr>\n",
       "    <tr>\n",
       "      <th>7</th>\n",
       "      <td>7</td>\n",
       "      <td>runtime_minutes</td>\n",
       "      <td>INTEGER</td>\n",
       "      <td>0</td>\n",
       "      <td>None</td>\n",
       "      <td>0</td>\n",
       "    </tr>\n",
       "    <tr>\n",
       "      <th>8</th>\n",
       "      <td>8</td>\n",
       "      <td>genres</td>\n",
       "      <td>VARCHAR</td>\n",
       "      <td>0</td>\n",
       "      <td>None</td>\n",
       "      <td>0</td>\n",
       "    </tr>\n",
       "  </tbody>\n",
       "</table>\n",
       "</div>"
      ],
      "text/plain": [
       "   cid             name     type  notnull dflt_value  pk\n",
       "0    0         title_id  VARCHAR        0       None   1\n",
       "1    1             type  VARCHAR        0       None   0\n",
       "2    2    primary_title  VARCHAR        0       None   0\n",
       "3    3   original_title  VARCHAR        0       None   0\n",
       "4    4         is_adult  INTEGER        0       None   0\n",
       "5    5        premiered  INTEGER        0       None   0\n",
       "6    6            ended  INTEGER        0       None   0\n",
       "7    7  runtime_minutes  INTEGER        0       None   0\n",
       "8    8           genres  VARCHAR        0       None   0"
      ]
     },
     "metadata": {},
     "output_type": "display_data"
    },
    {
     "name": "stdout",
     "output_type": "stream",
     "text": [
      "\n",
      "\n",
      "Esquema da tabela: akas\n"
     ]
    },
    {
     "data": {
      "text/html": [
       "<div>\n",
       "<style scoped>\n",
       "    .dataframe tbody tr th:only-of-type {\n",
       "        vertical-align: middle;\n",
       "    }\n",
       "\n",
       "    .dataframe tbody tr th {\n",
       "        vertical-align: top;\n",
       "    }\n",
       "\n",
       "    .dataframe thead th {\n",
       "        text-align: right;\n",
       "    }\n",
       "</style>\n",
       "<table border=\"1\" class=\"dataframe\">\n",
       "  <thead>\n",
       "    <tr style=\"text-align: right;\">\n",
       "      <th></th>\n",
       "      <th>cid</th>\n",
       "      <th>name</th>\n",
       "      <th>type</th>\n",
       "      <th>notnull</th>\n",
       "      <th>dflt_value</th>\n",
       "      <th>pk</th>\n",
       "    </tr>\n",
       "  </thead>\n",
       "  <tbody>\n",
       "    <tr>\n",
       "      <th>0</th>\n",
       "      <td>0</td>\n",
       "      <td>title_id</td>\n",
       "      <td>VARCHAR</td>\n",
       "      <td>0</td>\n",
       "      <td>None</td>\n",
       "      <td>0</td>\n",
       "    </tr>\n",
       "    <tr>\n",
       "      <th>1</th>\n",
       "      <td>1</td>\n",
       "      <td>title</td>\n",
       "      <td>VARCHAR</td>\n",
       "      <td>0</td>\n",
       "      <td>None</td>\n",
       "      <td>0</td>\n",
       "    </tr>\n",
       "    <tr>\n",
       "      <th>2</th>\n",
       "      <td>2</td>\n",
       "      <td>region</td>\n",
       "      <td>VARCHAR</td>\n",
       "      <td>0</td>\n",
       "      <td>None</td>\n",
       "      <td>0</td>\n",
       "    </tr>\n",
       "    <tr>\n",
       "      <th>3</th>\n",
       "      <td>3</td>\n",
       "      <td>language</td>\n",
       "      <td>VARCHAR</td>\n",
       "      <td>0</td>\n",
       "      <td>None</td>\n",
       "      <td>0</td>\n",
       "    </tr>\n",
       "    <tr>\n",
       "      <th>4</th>\n",
       "      <td>4</td>\n",
       "      <td>types</td>\n",
       "      <td>VARCHAR</td>\n",
       "      <td>0</td>\n",
       "      <td>None</td>\n",
       "      <td>0</td>\n",
       "    </tr>\n",
       "    <tr>\n",
       "      <th>5</th>\n",
       "      <td>5</td>\n",
       "      <td>attributes</td>\n",
       "      <td>VARCHAR</td>\n",
       "      <td>0</td>\n",
       "      <td>None</td>\n",
       "      <td>0</td>\n",
       "    </tr>\n",
       "    <tr>\n",
       "      <th>6</th>\n",
       "      <td>6</td>\n",
       "      <td>is_original_title</td>\n",
       "      <td>INTEGER</td>\n",
       "      <td>0</td>\n",
       "      <td>None</td>\n",
       "      <td>0</td>\n",
       "    </tr>\n",
       "  </tbody>\n",
       "</table>\n",
       "</div>"
      ],
      "text/plain": [
       "   cid               name     type  notnull dflt_value  pk\n",
       "0    0           title_id  VARCHAR        0       None   0\n",
       "1    1              title  VARCHAR        0       None   0\n",
       "2    2             region  VARCHAR        0       None   0\n",
       "3    3           language  VARCHAR        0       None   0\n",
       "4    4              types  VARCHAR        0       None   0\n",
       "5    5         attributes  VARCHAR        0       None   0\n",
       "6    6  is_original_title  INTEGER        0       None   0"
      ]
     },
     "metadata": {},
     "output_type": "display_data"
    },
    {
     "name": "stdout",
     "output_type": "stream",
     "text": [
      "\n",
      "\n",
      "Esquema da tabela: crew\n"
     ]
    },
    {
     "data": {
      "text/html": [
       "<div>\n",
       "<style scoped>\n",
       "    .dataframe tbody tr th:only-of-type {\n",
       "        vertical-align: middle;\n",
       "    }\n",
       "\n",
       "    .dataframe tbody tr th {\n",
       "        vertical-align: top;\n",
       "    }\n",
       "\n",
       "    .dataframe thead th {\n",
       "        text-align: right;\n",
       "    }\n",
       "</style>\n",
       "<table border=\"1\" class=\"dataframe\">\n",
       "  <thead>\n",
       "    <tr style=\"text-align: right;\">\n",
       "      <th></th>\n",
       "      <th>cid</th>\n",
       "      <th>name</th>\n",
       "      <th>type</th>\n",
       "      <th>notnull</th>\n",
       "      <th>dflt_value</th>\n",
       "      <th>pk</th>\n",
       "    </tr>\n",
       "  </thead>\n",
       "  <tbody>\n",
       "    <tr>\n",
       "      <th>0</th>\n",
       "      <td>0</td>\n",
       "      <td>title_id</td>\n",
       "      <td>VARCHAR</td>\n",
       "      <td>0</td>\n",
       "      <td>None</td>\n",
       "      <td>0</td>\n",
       "    </tr>\n",
       "    <tr>\n",
       "      <th>1</th>\n",
       "      <td>1</td>\n",
       "      <td>person_id</td>\n",
       "      <td>VARCHAR</td>\n",
       "      <td>0</td>\n",
       "      <td>None</td>\n",
       "      <td>0</td>\n",
       "    </tr>\n",
       "    <tr>\n",
       "      <th>2</th>\n",
       "      <td>2</td>\n",
       "      <td>category</td>\n",
       "      <td>VARCHAR</td>\n",
       "      <td>0</td>\n",
       "      <td>None</td>\n",
       "      <td>0</td>\n",
       "    </tr>\n",
       "    <tr>\n",
       "      <th>3</th>\n",
       "      <td>3</td>\n",
       "      <td>job</td>\n",
       "      <td>VARCHAR</td>\n",
       "      <td>0</td>\n",
       "      <td>None</td>\n",
       "      <td>0</td>\n",
       "    </tr>\n",
       "    <tr>\n",
       "      <th>4</th>\n",
       "      <td>4</td>\n",
       "      <td>characters</td>\n",
       "      <td>VARCHAR</td>\n",
       "      <td>0</td>\n",
       "      <td>None</td>\n",
       "      <td>0</td>\n",
       "    </tr>\n",
       "  </tbody>\n",
       "</table>\n",
       "</div>"
      ],
      "text/plain": [
       "   cid        name     type  notnull dflt_value  pk\n",
       "0    0    title_id  VARCHAR        0       None   0\n",
       "1    1   person_id  VARCHAR        0       None   0\n",
       "2    2    category  VARCHAR        0       None   0\n",
       "3    3         job  VARCHAR        0       None   0\n",
       "4    4  characters  VARCHAR        0       None   0"
      ]
     },
     "metadata": {},
     "output_type": "display_data"
    },
    {
     "name": "stdout",
     "output_type": "stream",
     "text": [
      "\n",
      "\n",
      "Esquema da tabela: episodes\n"
     ]
    },
    {
     "data": {
      "text/html": [
       "<div>\n",
       "<style scoped>\n",
       "    .dataframe tbody tr th:only-of-type {\n",
       "        vertical-align: middle;\n",
       "    }\n",
       "\n",
       "    .dataframe tbody tr th {\n",
       "        vertical-align: top;\n",
       "    }\n",
       "\n",
       "    .dataframe thead th {\n",
       "        text-align: right;\n",
       "    }\n",
       "</style>\n",
       "<table border=\"1\" class=\"dataframe\">\n",
       "  <thead>\n",
       "    <tr style=\"text-align: right;\">\n",
       "      <th></th>\n",
       "      <th>cid</th>\n",
       "      <th>name</th>\n",
       "      <th>type</th>\n",
       "      <th>notnull</th>\n",
       "      <th>dflt_value</th>\n",
       "      <th>pk</th>\n",
       "    </tr>\n",
       "  </thead>\n",
       "  <tbody>\n",
       "    <tr>\n",
       "      <th>0</th>\n",
       "      <td>0</td>\n",
       "      <td>episode_title_id</td>\n",
       "      <td>INTEGER</td>\n",
       "      <td>0</td>\n",
       "      <td>None</td>\n",
       "      <td>0</td>\n",
       "    </tr>\n",
       "    <tr>\n",
       "      <th>1</th>\n",
       "      <td>1</td>\n",
       "      <td>show_title_id</td>\n",
       "      <td>INTEGER</td>\n",
       "      <td>0</td>\n",
       "      <td>None</td>\n",
       "      <td>0</td>\n",
       "    </tr>\n",
       "    <tr>\n",
       "      <th>2</th>\n",
       "      <td>2</td>\n",
       "      <td>season_number</td>\n",
       "      <td>INTEGER</td>\n",
       "      <td>0</td>\n",
       "      <td>None</td>\n",
       "      <td>0</td>\n",
       "    </tr>\n",
       "    <tr>\n",
       "      <th>3</th>\n",
       "      <td>3</td>\n",
       "      <td>eposide_number</td>\n",
       "      <td>INTEGER</td>\n",
       "      <td>0</td>\n",
       "      <td>None</td>\n",
       "      <td>0</td>\n",
       "    </tr>\n",
       "  </tbody>\n",
       "</table>\n",
       "</div>"
      ],
      "text/plain": [
       "   cid              name     type  notnull dflt_value  pk\n",
       "0    0  episode_title_id  INTEGER        0       None   0\n",
       "1    1     show_title_id  INTEGER        0       None   0\n",
       "2    2     season_number  INTEGER        0       None   0\n",
       "3    3    eposide_number  INTEGER        0       None   0"
      ]
     },
     "metadata": {},
     "output_type": "display_data"
    },
    {
     "name": "stdout",
     "output_type": "stream",
     "text": [
      "\n",
      "\n",
      "Esquema da tabela: ratings\n"
     ]
    },
    {
     "data": {
      "text/html": [
       "<div>\n",
       "<style scoped>\n",
       "    .dataframe tbody tr th:only-of-type {\n",
       "        vertical-align: middle;\n",
       "    }\n",
       "\n",
       "    .dataframe tbody tr th {\n",
       "        vertical-align: top;\n",
       "    }\n",
       "\n",
       "    .dataframe thead th {\n",
       "        text-align: right;\n",
       "    }\n",
       "</style>\n",
       "<table border=\"1\" class=\"dataframe\">\n",
       "  <thead>\n",
       "    <tr style=\"text-align: right;\">\n",
       "      <th></th>\n",
       "      <th>cid</th>\n",
       "      <th>name</th>\n",
       "      <th>type</th>\n",
       "      <th>notnull</th>\n",
       "      <th>dflt_value</th>\n",
       "      <th>pk</th>\n",
       "    </tr>\n",
       "  </thead>\n",
       "  <tbody>\n",
       "    <tr>\n",
       "      <th>0</th>\n",
       "      <td>0</td>\n",
       "      <td>title_id</td>\n",
       "      <td>VARCHAR</td>\n",
       "      <td>0</td>\n",
       "      <td>None</td>\n",
       "      <td>1</td>\n",
       "    </tr>\n",
       "    <tr>\n",
       "      <th>1</th>\n",
       "      <td>1</td>\n",
       "      <td>rating</td>\n",
       "      <td>INTEGER</td>\n",
       "      <td>0</td>\n",
       "      <td>None</td>\n",
       "      <td>0</td>\n",
       "    </tr>\n",
       "    <tr>\n",
       "      <th>2</th>\n",
       "      <td>2</td>\n",
       "      <td>votes</td>\n",
       "      <td>INTEGER</td>\n",
       "      <td>0</td>\n",
       "      <td>None</td>\n",
       "      <td>0</td>\n",
       "    </tr>\n",
       "  </tbody>\n",
       "</table>\n",
       "</div>"
      ],
      "text/plain": [
       "   cid      name     type  notnull dflt_value  pk\n",
       "0    0  title_id  VARCHAR        0       None   1\n",
       "1    1    rating  INTEGER        0       None   0\n",
       "2    2     votes  INTEGER        0       None   0"
      ]
     },
     "metadata": {},
     "output_type": "display_data"
    },
    {
     "name": "stdout",
     "output_type": "stream",
     "text": [
      "\n",
      "\n"
     ]
    }
   ],
   "source": [
    "# Percorrendo a lista de tabelas do database para extrair o esquema de cada uma\n",
    "for tabela in tabelas:\n",
    "    consulta = 'PRAGMA TABLE_INFO({})'.format(tabela)\n",
    "    resultado = pd.read_sql_query(consulta, conn)\n",
    "    print('Esquema da tabela:', tabela)\n",
    "    display(resultado)\n",
    "    print('\\n')"
   ]
  },
  {
   "cell_type": "markdown",
   "id": "6583ecbd",
   "metadata": {},
   "source": [
    "### 1. Quais são as categorias de shows mais comuns no IMDB?"
   ]
  },
  {
   "cell_type": "code",
   "execution_count": 7,
   "id": "db92dde5",
   "metadata": {
    "ExecuteTime": {
     "end_time": "2022-06-11T17:33:29.307015Z",
     "start_time": "2022-06-11T17:33:29.304015Z"
    }
   },
   "outputs": [],
   "source": [
    "# Consulta SQL\n",
    "con1 = '''SELECT type, COUNT(*) AS COUNT FROM titles GROUP BY type'''"
   ]
  },
  {
   "cell_type": "code",
   "execution_count": 8,
   "id": "57119f76",
   "metadata": {
    "ExecuteTime": {
     "end_time": "2022-06-11T17:33:33.842910Z",
     "start_time": "2022-06-11T17:33:32.609841Z"
    }
   },
   "outputs": [],
   "source": [
    "# Extrai o resultado\n",
    "res1 = pd.read_sql_query(con1, conn)"
   ]
  },
  {
   "cell_type": "code",
   "execution_count": 9,
   "id": "56068abe",
   "metadata": {
    "ExecuteTime": {
     "end_time": "2022-06-11T17:33:40.739060Z",
     "start_time": "2022-06-11T17:33:40.733059Z"
    }
   },
   "outputs": [
    {
     "data": {
      "text/html": [
       "<div>\n",
       "<style scoped>\n",
       "    .dataframe tbody tr th:only-of-type {\n",
       "        vertical-align: middle;\n",
       "    }\n",
       "\n",
       "    .dataframe tbody tr th {\n",
       "        vertical-align: top;\n",
       "    }\n",
       "\n",
       "    .dataframe thead th {\n",
       "        text-align: right;\n",
       "    }\n",
       "</style>\n",
       "<table border=\"1\" class=\"dataframe\">\n",
       "  <thead>\n",
       "    <tr style=\"text-align: right;\">\n",
       "      <th></th>\n",
       "      <th>type</th>\n",
       "      <th>COUNT</th>\n",
       "    </tr>\n",
       "  </thead>\n",
       "  <tbody>\n",
       "    <tr>\n",
       "      <th>0</th>\n",
       "      <td>movie</td>\n",
       "      <td>610703</td>\n",
       "    </tr>\n",
       "    <tr>\n",
       "      <th>1</th>\n",
       "      <td>short</td>\n",
       "      <td>870502</td>\n",
       "    </tr>\n",
       "    <tr>\n",
       "      <th>2</th>\n",
       "      <td>tvEpisode</td>\n",
       "      <td>6711134</td>\n",
       "    </tr>\n",
       "    <tr>\n",
       "      <th>3</th>\n",
       "      <td>tvMiniSeries</td>\n",
       "      <td>43485</td>\n",
       "    </tr>\n",
       "    <tr>\n",
       "      <th>4</th>\n",
       "      <td>tvMovie</td>\n",
       "      <td>136129</td>\n",
       "    </tr>\n",
       "    <tr>\n",
       "      <th>5</th>\n",
       "      <td>tvPilot</td>\n",
       "      <td>2</td>\n",
       "    </tr>\n",
       "    <tr>\n",
       "      <th>6</th>\n",
       "      <td>tvSeries</td>\n",
       "      <td>225314</td>\n",
       "    </tr>\n",
       "    <tr>\n",
       "      <th>7</th>\n",
       "      <td>tvShort</td>\n",
       "      <td>10541</td>\n",
       "    </tr>\n",
       "    <tr>\n",
       "      <th>8</th>\n",
       "      <td>tvSpecial</td>\n",
       "      <td>36991</td>\n",
       "    </tr>\n",
       "    <tr>\n",
       "      <th>9</th>\n",
       "      <td>video</td>\n",
       "      <td>260813</td>\n",
       "    </tr>\n",
       "    <tr>\n",
       "      <th>10</th>\n",
       "      <td>videoGame</td>\n",
       "      <td>31158</td>\n",
       "    </tr>\n",
       "  </tbody>\n",
       "</table>\n",
       "</div>"
      ],
      "text/plain": [
       "            type    COUNT\n",
       "0          movie   610703\n",
       "1          short   870502\n",
       "2      tvEpisode  6711134\n",
       "3   tvMiniSeries    43485\n",
       "4        tvMovie   136129\n",
       "5        tvPilot        2\n",
       "6       tvSeries   225314\n",
       "7        tvShort    10541\n",
       "8      tvSpecial    36991\n",
       "9          video   260813\n",
       "10     videoGame    31158"
      ]
     },
     "metadata": {},
     "output_type": "display_data"
    }
   ],
   "source": [
    "# Visualizando o resultado\n",
    "display(res1)"
   ]
  },
  {
   "cell_type": "code",
   "execution_count": 10,
   "id": "b2316126",
   "metadata": {
    "ExecuteTime": {
     "end_time": "2022-06-11T17:33:42.666748Z",
     "start_time": "2022-06-11T17:33:42.655737Z"
    }
   },
   "outputs": [
    {
     "data": {
      "text/html": [
       "<div>\n",
       "<style scoped>\n",
       "    .dataframe tbody tr th:only-of-type {\n",
       "        vertical-align: middle;\n",
       "    }\n",
       "\n",
       "    .dataframe tbody tr th {\n",
       "        vertical-align: top;\n",
       "    }\n",
       "\n",
       "    .dataframe thead th {\n",
       "        text-align: right;\n",
       "    }\n",
       "</style>\n",
       "<table border=\"1\" class=\"dataframe\">\n",
       "  <thead>\n",
       "    <tr style=\"text-align: right;\">\n",
       "      <th></th>\n",
       "      <th>type</th>\n",
       "      <th>COUNT</th>\n",
       "      <th>percentual</th>\n",
       "    </tr>\n",
       "  </thead>\n",
       "  <tbody>\n",
       "    <tr>\n",
       "      <th>0</th>\n",
       "      <td>movie</td>\n",
       "      <td>610703</td>\n",
       "      <td>6.833597</td>\n",
       "    </tr>\n",
       "    <tr>\n",
       "      <th>1</th>\n",
       "      <td>short</td>\n",
       "      <td>870502</td>\n",
       "      <td>9.740676</td>\n",
       "    </tr>\n",
       "    <tr>\n",
       "      <th>2</th>\n",
       "      <td>tvEpisode</td>\n",
       "      <td>6711134</td>\n",
       "      <td>75.095728</td>\n",
       "    </tr>\n",
       "    <tr>\n",
       "      <th>3</th>\n",
       "      <td>tvMiniSeries</td>\n",
       "      <td>43485</td>\n",
       "      <td>0.486585</td>\n",
       "    </tr>\n",
       "    <tr>\n",
       "      <th>4</th>\n",
       "      <td>tvMovie</td>\n",
       "      <td>136129</td>\n",
       "      <td>1.523246</td>\n",
       "    </tr>\n",
       "    <tr>\n",
       "      <th>5</th>\n",
       "      <td>tvPilot</td>\n",
       "      <td>2</td>\n",
       "      <td>0.000022</td>\n",
       "    </tr>\n",
       "    <tr>\n",
       "      <th>6</th>\n",
       "      <td>tvSeries</td>\n",
       "      <td>225314</td>\n",
       "      <td>2.521201</td>\n",
       "    </tr>\n",
       "    <tr>\n",
       "      <th>7</th>\n",
       "      <td>tvShort</td>\n",
       "      <td>10541</td>\n",
       "      <td>0.117951</td>\n",
       "    </tr>\n",
       "    <tr>\n",
       "      <th>8</th>\n",
       "      <td>tvSpecial</td>\n",
       "      <td>36991</td>\n",
       "      <td>0.413919</td>\n",
       "    </tr>\n",
       "    <tr>\n",
       "      <th>9</th>\n",
       "      <td>video</td>\n",
       "      <td>260813</td>\n",
       "      <td>2.918425</td>\n",
       "    </tr>\n",
       "    <tr>\n",
       "      <th>10</th>\n",
       "      <td>videoGame</td>\n",
       "      <td>31158</td>\n",
       "      <td>0.348649</td>\n",
       "    </tr>\n",
       "  </tbody>\n",
       "</table>\n",
       "</div>"
      ],
      "text/plain": [
       "            type    COUNT  percentual\n",
       "0          movie   610703    6.833597\n",
       "1          short   870502    9.740676\n",
       "2      tvEpisode  6711134   75.095728\n",
       "3   tvMiniSeries    43485    0.486585\n",
       "4        tvMovie   136129    1.523246\n",
       "5        tvPilot        2    0.000022\n",
       "6       tvSeries   225314    2.521201\n",
       "7        tvShort    10541    0.117951\n",
       "8      tvSpecial    36991    0.413919\n",
       "9          video   260813    2.918425\n",
       "10     videoGame    31158    0.348649"
      ]
     },
     "metadata": {},
     "output_type": "display_data"
    }
   ],
   "source": [
    "# Calculando o percentual de cada tipo em relação ao total\n",
    "res1['percentual'] = (res1['COUNT'] / res1['COUNT'].sum()) * 100\n",
    "display(res1)"
   ]
  },
  {
   "cell_type": "code",
   "execution_count": 11,
   "id": "7326a252",
   "metadata": {
    "ExecuteTime": {
     "end_time": "2022-06-11T17:33:47.492081Z",
     "start_time": "2022-06-11T17:33:47.484079Z"
    }
   },
   "outputs": [],
   "source": [
    "# Criando um gráfico com 04 categorias:\n",
    "# As primeiras 3 categorias com mais títulos e 1 categoria com todo o restante\n",
    "\n",
    "# Dicionário vazio para as categorias restantes\n",
    "others = {}\n",
    "\n",
    "# Todas as categorias restantes tem menos de 5% de participação, então vamos filtar por essa porcentagem e somar\n",
    "others['COUNT'] = res1[res1['percentual'] < 5]['COUNT'].sum()\n",
    "\n",
    "# Gravando o percentual no dicionário\n",
    "others['percentual'] = res1[res1['percentual'] < 5]['percentual'].sum()\n",
    "\n",
    "# Ajustando o nome\n",
    "others['type'] = 'others'"
   ]
  },
  {
   "cell_type": "code",
   "execution_count": 12,
   "id": "cf11610e",
   "metadata": {
    "ExecuteTime": {
     "end_time": "2022-06-11T17:33:49.106005Z",
     "start_time": "2022-06-11T17:33:49.102012Z"
    }
   },
   "outputs": [
    {
     "data": {
      "text/plain": [
       "{'COUNT': 744433, 'percentual': 8.329998795985844, 'type': 'others'}"
      ]
     },
     "execution_count": 12,
     "metadata": {},
     "output_type": "execute_result"
    }
   ],
   "source": [
    "# Visualizando o dicionário\n",
    "others"
   ]
  },
  {
   "cell_type": "code",
   "execution_count": 13,
   "id": "72f435b6",
   "metadata": {
    "ExecuteTime": {
     "end_time": "2022-06-11T17:33:51.086176Z",
     "start_time": "2022-06-11T17:33:51.084176Z"
    }
   },
   "outputs": [],
   "source": [
    "# Filtra o dataframe de resultado para buscar as 03 primeiras categorias\n",
    "res1 = res1[res1['percentual'] > 5]"
   ]
  },
  {
   "cell_type": "code",
   "execution_count": 14,
   "id": "cffc7dbf",
   "metadata": {
    "ExecuteTime": {
     "end_time": "2022-06-11T17:33:52.626769Z",
     "start_time": "2022-06-11T17:33:52.616766Z"
    }
   },
   "outputs": [],
   "source": [
    "# Junta o dataframe com o dicionário de outras categorias\n",
    "res1 = res1.append(others, ignore_index=True)"
   ]
  },
  {
   "cell_type": "code",
   "execution_count": 15,
   "id": "82d60aab",
   "metadata": {
    "ExecuteTime": {
     "end_time": "2022-06-11T17:33:54.058761Z",
     "start_time": "2022-06-11T17:33:54.050759Z"
    }
   },
   "outputs": [
    {
     "data": {
      "text/html": [
       "<div>\n",
       "<style scoped>\n",
       "    .dataframe tbody tr th:only-of-type {\n",
       "        vertical-align: middle;\n",
       "    }\n",
       "\n",
       "    .dataframe tbody tr th {\n",
       "        vertical-align: top;\n",
       "    }\n",
       "\n",
       "    .dataframe thead th {\n",
       "        text-align: right;\n",
       "    }\n",
       "</style>\n",
       "<table border=\"1\" class=\"dataframe\">\n",
       "  <thead>\n",
       "    <tr style=\"text-align: right;\">\n",
       "      <th></th>\n",
       "      <th>type</th>\n",
       "      <th>COUNT</th>\n",
       "      <th>percentual</th>\n",
       "    </tr>\n",
       "  </thead>\n",
       "  <tbody>\n",
       "    <tr>\n",
       "      <th>2</th>\n",
       "      <td>tvEpisode</td>\n",
       "      <td>6711134</td>\n",
       "      <td>75.095728</td>\n",
       "    </tr>\n",
       "    <tr>\n",
       "      <th>1</th>\n",
       "      <td>short</td>\n",
       "      <td>870502</td>\n",
       "      <td>9.740676</td>\n",
       "    </tr>\n",
       "    <tr>\n",
       "      <th>3</th>\n",
       "      <td>others</td>\n",
       "      <td>744433</td>\n",
       "      <td>8.329999</td>\n",
       "    </tr>\n",
       "    <tr>\n",
       "      <th>0</th>\n",
       "      <td>movie</td>\n",
       "      <td>610703</td>\n",
       "      <td>6.833597</td>\n",
       "    </tr>\n",
       "  </tbody>\n",
       "</table>\n",
       "</div>"
      ],
      "text/plain": [
       "        type    COUNT  percentual\n",
       "2  tvEpisode  6711134   75.095728\n",
       "1      short   870502    9.740676\n",
       "3     others   744433    8.329999\n",
       "0      movie   610703    6.833597"
      ]
     },
     "execution_count": 15,
     "metadata": {},
     "output_type": "execute_result"
    }
   ],
   "source": [
    "# Ordenando o dataframe e visualizando o resultado\n",
    "res1 = res1.sort_values(by='COUNT', ascending=False)\n",
    "res1.head()"
   ]
  },
  {
   "cell_type": "code",
   "execution_count": 16,
   "id": "0ced9a44",
   "metadata": {
    "ExecuteTime": {
     "end_time": "2022-06-11T17:33:56.408933Z",
     "start_time": "2022-06-11T17:33:56.222001Z"
    }
   },
   "outputs": [
    {
     "data": {
      "image/png": "[encoded data removed]",
      "text/plain": [
       "<Figure size 432x288 with 1 Axes>"
      ]
     },
     "metadata": {},
     "output_type": "display_data"
    }
   ],
   "source": [
    "# Construindo e demonstrando o gráfico\n",
    "# Ajusta as legendas do gráfico\n",
    "labels = [str(res1['type'][i])+' '+'['+str(round(res1['percentual'][i], 2)) +'%'+']' for i in res1.index]\n",
    "\n",
    "# Mapa de cores\n",
    "cs = cm.Set3(np.arange(100))\n",
    "\n",
    "# Pie Plot\n",
    "f = plt.figure()\n",
    "plt.pie(res1['COUNT'], labeldistance=1, radius=3, colors=cs, wedgeprops = dict(width=0.8))\n",
    "plt.legend(labels=labels, loc='center', prop={'size':12})\n",
    "plt.title('Distribuição de Títulos', loc='center', fontdict={'fontsize':20, 'fontweight':20})\n",
    "plt.show()"
   ]
  },
  {
   "cell_type": "markdown",
   "id": "97a14e8c",
   "metadata": {},
   "source": [
    "### 2. Qual o número de filmes por gênero?"
   ]
  },
  {
   "cell_type": "code",
   "execution_count": 90,
   "id": "b6682461",
   "metadata": {
    "ExecuteTime": {
     "end_time": "2022-06-11T18:04:29.898931Z",
     "start_time": "2022-06-11T18:04:29.896930Z"
    }
   },
   "outputs": [],
   "source": [
    "# Consulta SQL\n",
    "con2 = '''SELECT genres, COUNT(*) FROM titles WHERE type = 'movie' GROUP BY genres'''"
   ]
  },
  {
   "cell_type": "code",
   "execution_count": 91,
   "id": "d5e28b6a",
   "metadata": {
    "ExecuteTime": {
     "end_time": "2022-06-11T18:04:40.567769Z",
     "start_time": "2022-06-11T18:04:31.335899Z"
    }
   },
   "outputs": [],
   "source": [
    "# Resultado\n",
    "res2 = pd.read_sql_query(con2, conn)"
   ]
  },
  {
   "cell_type": "code",
   "execution_count": 92,
   "id": "5969a570",
   "metadata": {
    "ExecuteTime": {
     "end_time": "2022-06-11T18:04:41.786951Z",
     "start_time": "2022-06-11T18:04:41.779951Z"
    }
   },
   "outputs": [
    {
     "data": {
      "text/html": [
       "<div>\n",
       "<style scoped>\n",
       "    .dataframe tbody tr th:only-of-type {\n",
       "        vertical-align: middle;\n",
       "    }\n",
       "\n",
       "    .dataframe tbody tr th {\n",
       "        vertical-align: top;\n",
       "    }\n",
       "\n",
       "    .dataframe thead th {\n",
       "        text-align: right;\n",
       "    }\n",
       "</style>\n",
       "<table border=\"1\" class=\"dataframe\">\n",
       "  <thead>\n",
       "    <tr style=\"text-align: right;\">\n",
       "      <th></th>\n",
       "      <th>genres</th>\n",
       "      <th>COUNT(*)</th>\n",
       "    </tr>\n",
       "  </thead>\n",
       "  <tbody>\n",
       "    <tr>\n",
       "      <th>0</th>\n",
       "      <td>Action</td>\n",
       "      <td>14031</td>\n",
       "    </tr>\n",
       "    <tr>\n",
       "      <th>1</th>\n",
       "      <td>Action,Adult</td>\n",
       "      <td>11</td>\n",
       "    </tr>\n",
       "    <tr>\n",
       "      <th>2</th>\n",
       "      <td>Action,Adult,Adventure</td>\n",
       "      <td>1</td>\n",
       "    </tr>\n",
       "    <tr>\n",
       "      <th>3</th>\n",
       "      <td>Action,Adult,Comedy</td>\n",
       "      <td>5</td>\n",
       "    </tr>\n",
       "    <tr>\n",
       "      <th>4</th>\n",
       "      <td>Action,Adult,Crime</td>\n",
       "      <td>10</td>\n",
       "    </tr>\n",
       "    <tr>\n",
       "      <th>...</th>\n",
       "      <td>...</td>\n",
       "      <td>...</td>\n",
       "    </tr>\n",
       "    <tr>\n",
       "      <th>1458</th>\n",
       "      <td>Thriller,Western</td>\n",
       "      <td>43</td>\n",
       "    </tr>\n",
       "    <tr>\n",
       "      <th>1459</th>\n",
       "      <td>War</td>\n",
       "      <td>1298</td>\n",
       "    </tr>\n",
       "    <tr>\n",
       "      <th>1460</th>\n",
       "      <td>War,Western</td>\n",
       "      <td>14</td>\n",
       "    </tr>\n",
       "    <tr>\n",
       "      <th>1461</th>\n",
       "      <td>Western</td>\n",
       "      <td>5159</td>\n",
       "    </tr>\n",
       "    <tr>\n",
       "      <th>1462</th>\n",
       "      <td>\\N</td>\n",
       "      <td>71521</td>\n",
       "    </tr>\n",
       "  </tbody>\n",
       "</table>\n",
       "<p>1463 rows × 2 columns</p>\n",
       "</div>"
      ],
      "text/plain": [
       "                      genres  COUNT(*)\n",
       "0                     Action     14031\n",
       "1               Action,Adult        11\n",
       "2     Action,Adult,Adventure         1\n",
       "3        Action,Adult,Comedy         5\n",
       "4         Action,Adult,Crime        10\n",
       "...                      ...       ...\n",
       "1458        Thriller,Western        43\n",
       "1459                     War      1298\n",
       "1460             War,Western        14\n",
       "1461                 Western      5159\n",
       "1462                      \\N     71521\n",
       "\n",
       "[1463 rows x 2 columns]"
      ]
     },
     "metadata": {},
     "output_type": "display_data"
    }
   ],
   "source": [
    "# Visualiza o resultado\n",
    "display(res2)"
   ]
  },
  {
   "cell_type": "code",
   "execution_count": 93,
   "id": "235cfc43",
   "metadata": {
    "ExecuteTime": {
     "end_time": "2022-06-11T18:04:43.096137Z",
     "start_time": "2022-06-11T18:04:43.091152Z"
    }
   },
   "outputs": [],
   "source": [
    "# Precisamos unificar os gêneros que tem palavras em comum\n",
    "# Primeiro, converte as strings dos gêneros para minúsculo\n",
    "res2['genres'] = res2['genres'].str.lower().values\n",
    "\n",
    "# Depois, removemos os valores ausentes\n",
    "temp = res2['genres'].dropna()"
   ]
  },
  {
   "cell_type": "code",
   "execution_count": 94,
   "id": "309f9820",
   "metadata": {
    "ExecuteTime": {
     "end_time": "2022-06-11T18:04:44.677933Z",
     "start_time": "2022-06-11T18:04:44.654927Z"
    }
   },
   "outputs": [],
   "source": [
    "# Usaremos o CountVectorizer para converter a coluna de gêneros em um vetor e contar o número de filmes em cada gênero\n",
    "# Vamos criar um vetor usando expressão regular para filtrar as strings\n",
    "padrao = '(?u)\\\\b[\\\\w-]+\\\\b'\n",
    "vetor = CountVectorizer(token_pattern = padrao, analyzer = 'word').fit(temp)\n",
    "\n",
    "# Aplica a vetorização ao dataset sem os valores ausentes\n",
    "bag_generos = vetor.transform(temp)"
   ]
  },
  {
   "cell_type": "code",
   "execution_count": 95,
   "id": "2008d763",
   "metadata": {
    "ExecuteTime": {
     "end_time": "2022-06-11T18:04:45.918960Z",
     "start_time": "2022-06-11T18:04:45.915968Z"
    }
   },
   "outputs": [],
   "source": [
    "# Retorna os gêneros únicos\n",
    "generos_unicos = vetor.get_feature_names()"
   ]
  },
  {
   "cell_type": "code",
   "execution_count": 96,
   "id": "f13dd612",
   "metadata": {
    "ExecuteTime": {
     "end_time": "2022-06-11T18:04:47.132965Z",
     "start_time": "2022-06-11T18:04:47.129965Z"
    }
   },
   "outputs": [],
   "source": [
    "# Cria o dataframa de gêneros\n",
    "generos = pd.DataFrame(bag_generos.todense(), columns=generos_unicos, index=temp.index)"
   ]
  },
  {
   "cell_type": "code",
   "execution_count": 97,
   "id": "cd1739c3",
   "metadata": {
    "ExecuteTime": {
     "end_time": "2022-06-11T18:04:48.412512Z",
     "start_time": "2022-06-11T18:04:48.372941Z"
    }
   },
   "outputs": [
    {
     "name": "stdout",
     "output_type": "stream",
     "text": [
      "<class 'pandas.core.frame.DataFrame'>\n",
      "Int64Index: 1463 entries, 0 to 1462\n",
      "Data columns (total 29 columns):\n",
      " #   Column       Non-Null Count  Dtype\n",
      "---  ------       --------------  -----\n",
      " 0   action       1463 non-null   int64\n",
      " 1   adult        1463 non-null   int64\n",
      " 2   adventure    1463 non-null   int64\n",
      " 3   animation    1463 non-null   int64\n",
      " 4   biography    1463 non-null   int64\n",
      " 5   comedy       1463 non-null   int64\n",
      " 6   crime        1463 non-null   int64\n",
      " 7   documentary  1463 non-null   int64\n",
      " 8   drama        1463 non-null   int64\n",
      " 9   family       1463 non-null   int64\n",
      " 10  fantasy      1463 non-null   int64\n",
      " 11  film-noir    1463 non-null   int64\n",
      " 12  game-show    1463 non-null   int64\n",
      " 13  history      1463 non-null   int64\n",
      " 14  horror       1463 non-null   int64\n",
      " 15  music        1463 non-null   int64\n",
      " 16  musical      1463 non-null   int64\n",
      " 17  mystery      1463 non-null   int64\n",
      " 18  n            1463 non-null   int64\n",
      " 19  news         1463 non-null   int64\n",
      " 20  reality-tv   1463 non-null   int64\n",
      " 21  romance      1463 non-null   int64\n",
      " 22  sci-fi       1463 non-null   int64\n",
      " 23  short        1463 non-null   int64\n",
      " 24  sport        1463 non-null   int64\n",
      " 25  talk-show    1463 non-null   int64\n",
      " 26  thriller     1463 non-null   int64\n",
      " 27  war          1463 non-null   int64\n",
      " 28  western      1463 non-null   int64\n",
      "dtypes: int64(29)\n",
      "memory usage: 342.9 KB\n"
     ]
    }
   ],
   "source": [
    "# Visualiza os gêneros únicos\n",
    "generos.info()"
   ]
  },
  {
   "cell_type": "code",
   "execution_count": 98,
   "id": "6ec7f1a5",
   "metadata": {
    "ExecuteTime": {
     "end_time": "2022-06-11T18:04:49.904100Z",
     "start_time": "2022-06-11T18:04:49.900107Z"
    }
   },
   "outputs": [],
   "source": [
    "# Removemos a coluna n\n",
    "generos = generos.drop(columns='n', axis=0)"
   ]
  },
  {
   "cell_type": "code",
   "execution_count": 99,
   "id": "36af7a18",
   "metadata": {
    "ExecuteTime": {
     "end_time": "2022-06-11T18:04:51.117017Z",
     "start_time": "2022-06-11T18:04:51.112015Z"
    }
   },
   "outputs": [],
   "source": [
    "# Calcula o percentual de cada gênero em relação ao todo\n",
    "generos_percentual = 100 * pd.Series(generos.sum()).sort_values(ascending=False) / generos.shape[0]"
   ]
  },
  {
   "cell_type": "code",
   "execution_count": 100,
   "id": "c097a206",
   "metadata": {
    "ExecuteTime": {
     "end_time": "2022-06-11T18:04:52.303950Z",
     "start_time": "2022-06-11T18:04:52.300956Z"
    }
   },
   "outputs": [
    {
     "data": {
      "text/plain": [
       "drama          17.976760\n",
       "comedy         16.883117\n",
       "documentary    15.789474\n",
       "adventure      14.900889\n",
       "action         14.422420\n",
       "romance        13.260424\n",
       "crime          13.123718\n",
       "mystery        12.508544\n",
       "thriller       12.303486\n",
       "fantasy        12.098428\n",
       "dtype: float64"
      ]
     },
     "execution_count": 100,
     "metadata": {},
     "output_type": "execute_result"
    }
   ],
   "source": [
    "generos_percentual.head(10)"
   ]
  },
  {
   "cell_type": "code",
   "execution_count": 101,
   "id": "4bede174",
   "metadata": {
    "ExecuteTime": {
     "end_time": "2022-06-11T18:04:53.822760Z",
     "start_time": "2022-06-11T18:04:53.614712Z"
    }
   },
   "outputs": [
    {
     "data": {
      "image/png": "[encoded data removed]",
      "text/plain": [
       "<Figure size 1152x576 with 1 Axes>"
      ]
     },
     "metadata": {
      "needs_background": "light"
     },
     "output_type": "display_data"
    }
   ],
   "source": [
    "# Criando e visualizando o gráfico\n",
    "plt.figure(figsize=(16,8))\n",
    "sns.barplot(x=generos_percentual.values, y=generos_percentual.index, orient='h', palette='terrain')\n",
    "plt.ylabel('Gênero')\n",
    "plt.xlabel('\\nPercentual de Filmes(%)')\n",
    "plt.title('\\nNúmero (Percentual) de Títulos Por Gênero\\n')\n",
    "plt.show()"
   ]
  },
  {
   "cell_type": "markdown",
   "id": "20835f15",
   "metadata": {},
   "source": [
    "### 3. Qual a mediana de avaliação dos filmes por gênero?"
   ]
  },
  {
   "cell_type": "code",
   "execution_count": 33,
   "id": "a410e796",
   "metadata": {
    "ExecuteTime": {
     "end_time": "2022-06-11T17:35:03.152043Z",
     "start_time": "2022-06-11T17:35:03.149042Z"
    }
   },
   "outputs": [],
   "source": [
    "# Consulta SQL\n",
    "con3 = '''SELECT rating, genres FROM ratings JOIN titles ON\n",
    "          ratings.title_id = titles.title_id WHERE \n",
    "          premiered <= 2022 AND type = 'movie'\n",
    "          '''"
   ]
  },
  {
   "cell_type": "code",
   "execution_count": 34,
   "id": "106bcfac",
   "metadata": {
    "ExecuteTime": {
     "end_time": "2022-06-11T17:35:09.049770Z",
     "start_time": "2022-06-11T17:35:04.756927Z"
    }
   },
   "outputs": [],
   "source": [
    "# Resultado\n",
    "res3 = pd.read_sql_query(con3, conn)"
   ]
  },
  {
   "cell_type": "code",
   "execution_count": 35,
   "id": "268004a4",
   "metadata": {
    "ExecuteTime": {
     "end_time": "2022-06-11T17:35:10.579379Z",
     "start_time": "2022-06-11T17:35:10.573377Z"
    }
   },
   "outputs": [
    {
     "data": {
      "text/html": [
       "<div>\n",
       "<style scoped>\n",
       "    .dataframe tbody tr th:only-of-type {\n",
       "        vertical-align: middle;\n",
       "    }\n",
       "\n",
       "    .dataframe tbody tr th {\n",
       "        vertical-align: top;\n",
       "    }\n",
       "\n",
       "    .dataframe thead th {\n",
       "        text-align: right;\n",
       "    }\n",
       "</style>\n",
       "<table border=\"1\" class=\"dataframe\">\n",
       "  <thead>\n",
       "    <tr style=\"text-align: right;\">\n",
       "      <th></th>\n",
       "      <th>rating</th>\n",
       "      <th>genres</th>\n",
       "    </tr>\n",
       "  </thead>\n",
       "  <tbody>\n",
       "    <tr>\n",
       "      <th>0</th>\n",
       "      <td>4.5</td>\n",
       "      <td>\\N</td>\n",
       "    </tr>\n",
       "    <tr>\n",
       "      <th>1</th>\n",
       "      <td>6.0</td>\n",
       "      <td>Action,Adventure,Biography</td>\n",
       "    </tr>\n",
       "    <tr>\n",
       "      <th>2</th>\n",
       "      <td>4.5</td>\n",
       "      <td>Drama</td>\n",
       "    </tr>\n",
       "    <tr>\n",
       "      <th>3</th>\n",
       "      <td>4.5</td>\n",
       "      <td>Drama</td>\n",
       "    </tr>\n",
       "    <tr>\n",
       "      <th>4</th>\n",
       "      <td>3.8</td>\n",
       "      <td>Drama</td>\n",
       "    </tr>\n",
       "    <tr>\n",
       "      <th>...</th>\n",
       "      <td>...</td>\n",
       "      <td>...</td>\n",
       "    </tr>\n",
       "    <tr>\n",
       "      <th>278469</th>\n",
       "      <td>5.8</td>\n",
       "      <td>Thriller</td>\n",
       "    </tr>\n",
       "    <tr>\n",
       "      <th>278470</th>\n",
       "      <td>6.4</td>\n",
       "      <td>Drama,History</td>\n",
       "    </tr>\n",
       "    <tr>\n",
       "      <th>278471</th>\n",
       "      <td>3.6</td>\n",
       "      <td>Adventure,History,War</td>\n",
       "    </tr>\n",
       "    <tr>\n",
       "      <th>278472</th>\n",
       "      <td>8.3</td>\n",
       "      <td>Drama</td>\n",
       "    </tr>\n",
       "    <tr>\n",
       "      <th>278473</th>\n",
       "      <td>8.4</td>\n",
       "      <td>\\N</td>\n",
       "    </tr>\n",
       "  </tbody>\n",
       "</table>\n",
       "<p>278474 rows × 2 columns</p>\n",
       "</div>"
      ],
      "text/plain": [
       "        rating                      genres\n",
       "0          4.5                          \\N\n",
       "1          6.0  Action,Adventure,Biography\n",
       "2          4.5                       Drama\n",
       "3          4.5                       Drama\n",
       "4          3.8                       Drama\n",
       "...        ...                         ...\n",
       "278469     5.8                    Thriller\n",
       "278470     6.4               Drama,History\n",
       "278471     3.6       Adventure,History,War\n",
       "278472     8.3                       Drama\n",
       "278473     8.4                          \\N\n",
       "\n",
       "[278474 rows x 2 columns]"
      ]
     },
     "metadata": {},
     "output_type": "display_data"
    }
   ],
   "source": [
    "# Visualizando o resultado\n",
    "display(res3)"
   ]
  },
  {
   "cell_type": "code",
   "execution_count": 37,
   "id": "3179bf85",
   "metadata": {
    "ExecuteTime": {
     "end_time": "2022-06-11T17:35:20.975941Z",
     "start_time": "2022-06-11T17:35:20.972941Z"
    }
   },
   "outputs": [],
   "source": [
    "# Vamos criar uma função para retornar os gêneros únicos\n",
    "def retorna_generos(df):\n",
    "    df['genres'] = df['genres'].str.lower().values\n",
    "    temp = df['genres'].dropna()\n",
    "    vetor = CountVectorizer(token_pattern = '(?u)\\\\b[\\\\w-]+\\\\b', analyzer = 'word').fit(temp)\n",
    "    generos_unicos = vetor.get_feature_names()\n",
    "    generos_unicos = [genre for genre in generos_unicos if len(genre) > 1]\n",
    "    return generos_unicos"
   ]
  },
  {
   "cell_type": "code",
   "execution_count": 38,
   "id": "8ab5834c",
   "metadata": {
    "ExecuteTime": {
     "end_time": "2022-06-11T17:35:23.023005Z",
     "start_time": "2022-06-11T17:35:22.178816Z"
    }
   },
   "outputs": [],
   "source": [
    "# Aplica a função ao resultado\n",
    "generos_unicos = retorna_generos(res3)"
   ]
  },
  {
   "cell_type": "code",
   "execution_count": 39,
   "id": "5b79ccc7",
   "metadata": {
    "ExecuteTime": {
     "end_time": "2022-06-11T17:35:23.927101Z",
     "start_time": "2022-06-11T17:35:23.923100Z"
    }
   },
   "outputs": [
    {
     "data": {
      "text/plain": [
       "['action',\n",
       " 'adult',\n",
       " 'adventure',\n",
       " 'animation',\n",
       " 'biography',\n",
       " 'comedy',\n",
       " 'crime',\n",
       " 'documentary',\n",
       " 'drama',\n",
       " 'family',\n",
       " 'fantasy',\n",
       " 'film-noir',\n",
       " 'game-show',\n",
       " 'history',\n",
       " 'horror',\n",
       " 'music',\n",
       " 'musical',\n",
       " 'mystery',\n",
       " 'news',\n",
       " 'reality-tv',\n",
       " 'romance',\n",
       " 'sci-fi',\n",
       " 'short',\n",
       " 'sport',\n",
       " 'talk-show',\n",
       " 'thriller',\n",
       " 'war',\n",
       " 'western']"
      ]
     },
     "execution_count": 39,
     "metadata": {},
     "output_type": "execute_result"
    }
   ],
   "source": [
    "# Visualizando os gêneros após execução da função\n",
    "generos_unicos"
   ]
  },
  {
   "cell_type": "code",
   "execution_count": 40,
   "id": "0b6bbd94",
   "metadata": {
    "ExecuteTime": {
     "end_time": "2022-06-11T17:35:25.292044Z",
     "start_time": "2022-06-11T17:35:25.290044Z"
    }
   },
   "outputs": [],
   "source": [
    "# Criando listas vazias para a contagem de filmes e mediana da avaliação por gênero\n",
    "genero_counts = []\n",
    "genero_ratings = []"
   ]
  },
  {
   "cell_type": "code",
   "execution_count": 41,
   "id": "61fd4ce1",
   "metadata": {
    "ExecuteTime": {
     "end_time": "2022-06-11T17:36:17.594174Z",
     "start_time": "2022-06-11T17:35:27.515021Z"
    }
   },
   "outputs": [],
   "source": [
    "# Loop para preencher as listas\n",
    "for item in generos_unicos:\n",
    "    # Contagem de filmes por gênero\n",
    "    consulta = 'SELECT COUNT(rating) FROM ratings JOIN titles ON ratings.title_id=titles.title_id WHERE genres LIKE '+ '\\''+'%'+item+'%'+'\\' AND type=\\'movie\\''\n",
    "    resultado = pd.read_sql_query(consulta, conn)\n",
    "    genero_counts.append(resultado.values[0][0])\n",
    "    \n",
    "    # Mediana de avaliação dos filmes por gênero\n",
    "    consulta = 'SELECT rating FROM ratings JOIN titles ON ratings.title_id=titles.title_id WHERE genres LIKE '+ '\\''+'%'+item+'%'+'\\' AND type=\\'movie\\''\n",
    "    resultado = pd.read_sql_query(consulta, conn)\n",
    "    genero_ratings.append(np.median(resultado['rating']))"
   ]
  },
  {
   "cell_type": "code",
   "execution_count": 42,
   "id": "7e1b6b6d",
   "metadata": {
    "ExecuteTime": {
     "end_time": "2022-06-11T17:36:21.089773Z",
     "start_time": "2022-06-11T17:36:21.085772Z"
    }
   },
   "outputs": [],
   "source": [
    "# Preparando o dataframe final\n",
    "df_genero_ratings = pd.DataFrame()\n",
    "df_genero_ratings['genres'] = generos_unicos\n",
    "df_genero_ratings['count'] = genero_counts\n",
    "df_genero_ratings['rating'] = genero_ratings"
   ]
  },
  {
   "cell_type": "code",
   "execution_count": 43,
   "id": "37918083",
   "metadata": {
    "ExecuteTime": {
     "end_time": "2022-06-11T17:36:22.234647Z",
     "start_time": "2022-06-11T17:36:22.227646Z"
    }
   },
   "outputs": [
    {
     "data": {
      "text/html": [
       "<div>\n",
       "<style scoped>\n",
       "    .dataframe tbody tr th:only-of-type {\n",
       "        vertical-align: middle;\n",
       "    }\n",
       "\n",
       "    .dataframe tbody tr th {\n",
       "        vertical-align: top;\n",
       "    }\n",
       "\n",
       "    .dataframe thead th {\n",
       "        text-align: right;\n",
       "    }\n",
       "</style>\n",
       "<table border=\"1\" class=\"dataframe\">\n",
       "  <thead>\n",
       "    <tr style=\"text-align: right;\">\n",
       "      <th></th>\n",
       "      <th>genres</th>\n",
       "      <th>count</th>\n",
       "      <th>rating</th>\n",
       "    </tr>\n",
       "  </thead>\n",
       "  <tbody>\n",
       "    <tr>\n",
       "      <th>0</th>\n",
       "      <td>action</td>\n",
       "      <td>28822</td>\n",
       "      <td>5.8</td>\n",
       "    </tr>\n",
       "    <tr>\n",
       "      <th>1</th>\n",
       "      <td>adult</td>\n",
       "      <td>4373</td>\n",
       "      <td>5.8</td>\n",
       "    </tr>\n",
       "    <tr>\n",
       "      <th>2</th>\n",
       "      <td>adventure</td>\n",
       "      <td>17505</td>\n",
       "      <td>6.0</td>\n",
       "    </tr>\n",
       "    <tr>\n",
       "      <th>3</th>\n",
       "      <td>animation</td>\n",
       "      <td>4784</td>\n",
       "      <td>6.5</td>\n",
       "    </tr>\n",
       "    <tr>\n",
       "      <th>4</th>\n",
       "      <td>biography</td>\n",
       "      <td>8482</td>\n",
       "      <td>7.0</td>\n",
       "    </tr>\n",
       "    <tr>\n",
       "      <th>5</th>\n",
       "      <td>comedy</td>\n",
       "      <td>68850</td>\n",
       "      <td>6.0</td>\n",
       "    </tr>\n",
       "    <tr>\n",
       "      <th>6</th>\n",
       "      <td>crime</td>\n",
       "      <td>23817</td>\n",
       "      <td>6.1</td>\n",
       "    </tr>\n",
       "    <tr>\n",
       "      <th>7</th>\n",
       "      <td>documentary</td>\n",
       "      <td>41653</td>\n",
       "      <td>7.3</td>\n",
       "    </tr>\n",
       "    <tr>\n",
       "      <th>8</th>\n",
       "      <td>drama</td>\n",
       "      <td>123321</td>\n",
       "      <td>6.3</td>\n",
       "    </tr>\n",
       "    <tr>\n",
       "      <th>9</th>\n",
       "      <td>family</td>\n",
       "      <td>10760</td>\n",
       "      <td>6.3</td>\n",
       "    </tr>\n",
       "    <tr>\n",
       "      <th>10</th>\n",
       "      <td>fantasy</td>\n",
       "      <td>8262</td>\n",
       "      <td>6.0</td>\n",
       "    </tr>\n",
       "    <tr>\n",
       "      <th>11</th>\n",
       "      <td>film-noir</td>\n",
       "      <td>771</td>\n",
       "      <td>6.5</td>\n",
       "    </tr>\n",
       "    <tr>\n",
       "      <th>12</th>\n",
       "      <td>game-show</td>\n",
       "      <td>4</td>\n",
       "      <td>6.8</td>\n",
       "    </tr>\n",
       "    <tr>\n",
       "      <th>13</th>\n",
       "      <td>history</td>\n",
       "      <td>7694</td>\n",
       "      <td>6.9</td>\n",
       "    </tr>\n",
       "    <tr>\n",
       "      <th>14</th>\n",
       "      <td>horror</td>\n",
       "      <td>19800</td>\n",
       "      <td>5.0</td>\n",
       "    </tr>\n",
       "    <tr>\n",
       "      <th>15</th>\n",
       "      <td>music</td>\n",
       "      <td>12630</td>\n",
       "      <td>6.5</td>\n",
       "    </tr>\n",
       "    <tr>\n",
       "      <th>16</th>\n",
       "      <td>musical</td>\n",
       "      <td>6251</td>\n",
       "      <td>6.2</td>\n",
       "    </tr>\n",
       "    <tr>\n",
       "      <th>17</th>\n",
       "      <td>mystery</td>\n",
       "      <td>10422</td>\n",
       "      <td>5.9</td>\n",
       "    </tr>\n",
       "    <tr>\n",
       "      <th>18</th>\n",
       "      <td>news</td>\n",
       "      <td>656</td>\n",
       "      <td>7.3</td>\n",
       "    </tr>\n",
       "    <tr>\n",
       "      <th>19</th>\n",
       "      <td>reality-tv</td>\n",
       "      <td>47</td>\n",
       "      <td>6.1</td>\n",
       "    </tr>\n",
       "  </tbody>\n",
       "</table>\n",
       "</div>"
      ],
      "text/plain": [
       "         genres   count  rating\n",
       "0        action   28822     5.8\n",
       "1         adult    4373     5.8\n",
       "2     adventure   17505     6.0\n",
       "3     animation    4784     6.5\n",
       "4     biography    8482     7.0\n",
       "5        comedy   68850     6.0\n",
       "6         crime   23817     6.1\n",
       "7   documentary   41653     7.3\n",
       "8         drama  123321     6.3\n",
       "9        family   10760     6.3\n",
       "10      fantasy    8262     6.0\n",
       "11    film-noir     771     6.5\n",
       "12    game-show       4     6.8\n",
       "13      history    7694     6.9\n",
       "14       horror   19800     5.0\n",
       "15        music   12630     6.5\n",
       "16      musical    6251     6.2\n",
       "17      mystery   10422     5.9\n",
       "18         news     656     7.3\n",
       "19   reality-tv      47     6.1"
      ]
     },
     "execution_count": 43,
     "metadata": {},
     "output_type": "execute_result"
    }
   ],
   "source": [
    "# Visualizando o dataframe criado\n",
    "df_genero_ratings.head(20)"
   ]
  },
  {
   "cell_type": "code",
   "execution_count": 44,
   "id": "f90a83e6",
   "metadata": {
    "ExecuteTime": {
     "end_time": "2022-06-11T17:36:24.150266Z",
     "start_time": "2022-06-11T17:36:24.147265Z"
    }
   },
   "outputs": [],
   "source": [
    "# Removendo o gênero news\n",
    "df_genero_rating = df_genero_ratings.drop(index=18)"
   ]
  },
  {
   "cell_type": "code",
   "execution_count": 45,
   "id": "e5d5a37a",
   "metadata": {
    "ExecuteTime": {
     "end_time": "2022-06-11T17:36:27.162033Z",
     "start_time": "2022-06-11T17:36:27.159041Z"
    }
   },
   "outputs": [],
   "source": [
    "# Ordenando o resultado\n",
    "df_genero_ratings = df_genero_ratings.sort_values(by='rating', ascending=False)"
   ]
  },
  {
   "cell_type": "code",
   "execution_count": 46,
   "id": "8638e5a8",
   "metadata": {
    "ExecuteTime": {
     "end_time": "2022-06-11T17:36:28.866003Z",
     "start_time": "2022-06-11T17:36:28.460756Z"
    }
   },
   "outputs": [
    {
     "data": {
      "image/png": "[encoded data removed]",
      "text/plain": [
       "<Figure size 1152x720 with 1 Axes>"
      ]
     },
     "metadata": {
      "needs_background": "light"
     },
     "output_type": "display_data"
    }
   ],
   "source": [
    "# Criando e visualizando o gráfico\n",
    "plt.figure(figsize=(16,10))\n",
    "\n",
    "sns.barplot(y=df_genero_ratings.genres, x=df_genero_ratings.rating, orient='h')\n",
    "\n",
    "# Textos do gráfico\n",
    "for i in range(len(df_genero_ratings.index)):\n",
    "    \n",
    "    plt.text(4.0, \n",
    "             i + 0.25, \n",
    "             str(df_genero_ratings['count'][df_genero_ratings.index[i]]) + ' filmes')\n",
    "    \n",
    "    plt.text(df_genero_ratings.rating[df_genero_ratings.index[i]],\n",
    "             i + 0.25,\n",
    "             round(df_genero_ratings['rating'][df_genero_ratings.index[i]],2))\n",
    "plt.ylabel('Gênero')\n",
    "plt.xlabel('Mediana da Avaliação')\n",
    "plt.title('\\nMediana de Avaliação Por Gênero\\n')\n",
    "plt.show()"
   ]
  },
  {
   "cell_type": "markdown",
   "id": "1e6988d1",
   "metadata": {},
   "source": [
    "### 4. Qual a mediana de avaliação dos filmes em relação ao ano de estréia?"
   ]
  },
  {
   "cell_type": "code",
   "execution_count": 47,
   "id": "04031166",
   "metadata": {
    "ExecuteTime": {
     "end_time": "2022-06-11T17:42:45.393757Z",
     "start_time": "2022-06-11T17:42:45.391757Z"
    }
   },
   "outputs": [],
   "source": [
    "# Consulta SQL\n",
    "con4 = '''\n",
    "       SELECT rating AS Rating, premiered FROM\n",
    "       ratings JOIN titles ON ratings.title_id = titles.title_id\n",
    "       WHERE premiered <= 2022 AND type = 'movie'\n",
    "       ORDER BY premiered\n",
    "       '''"
   ]
  },
  {
   "cell_type": "code",
   "execution_count": 48,
   "id": "79723d43",
   "metadata": {
    "ExecuteTime": {
     "end_time": "2022-06-11T17:42:48.462823Z",
     "start_time": "2022-06-11T17:42:46.771977Z"
    }
   },
   "outputs": [],
   "source": [
    "# Resultado\n",
    "res4 = pd.read_sql_query(con4, conn)"
   ]
  },
  {
   "cell_type": "code",
   "execution_count": 49,
   "id": "be704031",
   "metadata": {
    "ExecuteTime": {
     "end_time": "2022-06-11T17:42:49.738112Z",
     "start_time": "2022-06-11T17:42:49.732109Z"
    }
   },
   "outputs": [
    {
     "data": {
      "text/html": [
       "<div>\n",
       "<style scoped>\n",
       "    .dataframe tbody tr th:only-of-type {\n",
       "        vertical-align: middle;\n",
       "    }\n",
       "\n",
       "    .dataframe tbody tr th {\n",
       "        vertical-align: top;\n",
       "    }\n",
       "\n",
       "    .dataframe thead th {\n",
       "        text-align: right;\n",
       "    }\n",
       "</style>\n",
       "<table border=\"1\" class=\"dataframe\">\n",
       "  <thead>\n",
       "    <tr style=\"text-align: right;\">\n",
       "      <th></th>\n",
       "      <th>Rating</th>\n",
       "      <th>premiered</th>\n",
       "    </tr>\n",
       "  </thead>\n",
       "  <tbody>\n",
       "    <tr>\n",
       "      <th>0</th>\n",
       "      <td>6.2</td>\n",
       "      <td>1896</td>\n",
       "    </tr>\n",
       "    <tr>\n",
       "      <th>1</th>\n",
       "      <td>4.5</td>\n",
       "      <td>1897</td>\n",
       "    </tr>\n",
       "    <tr>\n",
       "      <th>2</th>\n",
       "      <td>4.0</td>\n",
       "      <td>1899</td>\n",
       "    </tr>\n",
       "    <tr>\n",
       "      <th>3</th>\n",
       "      <td>3.7</td>\n",
       "      <td>1899</td>\n",
       "    </tr>\n",
       "    <tr>\n",
       "      <th>4</th>\n",
       "      <td>6.0</td>\n",
       "      <td>1900</td>\n",
       "    </tr>\n",
       "    <tr>\n",
       "      <th>...</th>\n",
       "      <td>...</td>\n",
       "      <td>...</td>\n",
       "    </tr>\n",
       "    <tr>\n",
       "      <th>278469</th>\n",
       "      <td>6.0</td>\n",
       "      <td>2022</td>\n",
       "    </tr>\n",
       "    <tr>\n",
       "      <th>278470</th>\n",
       "      <td>7.1</td>\n",
       "      <td>2022</td>\n",
       "    </tr>\n",
       "    <tr>\n",
       "      <th>278471</th>\n",
       "      <td>9.5</td>\n",
       "      <td>2022</td>\n",
       "    </tr>\n",
       "    <tr>\n",
       "      <th>278472</th>\n",
       "      <td>5.0</td>\n",
       "      <td>2022</td>\n",
       "    </tr>\n",
       "    <tr>\n",
       "      <th>278473</th>\n",
       "      <td>4.2</td>\n",
       "      <td>2022</td>\n",
       "    </tr>\n",
       "  </tbody>\n",
       "</table>\n",
       "<p>278474 rows × 2 columns</p>\n",
       "</div>"
      ],
      "text/plain": [
       "        Rating  premiered\n",
       "0          6.2       1896\n",
       "1          4.5       1897\n",
       "2          4.0       1899\n",
       "3          3.7       1899\n",
       "4          6.0       1900\n",
       "...        ...        ...\n",
       "278469     6.0       2022\n",
       "278470     7.1       2022\n",
       "278471     9.5       2022\n",
       "278472     5.0       2022\n",
       "278473     4.2       2022\n",
       "\n",
       "[278474 rows x 2 columns]"
      ]
     },
     "metadata": {},
     "output_type": "display_data"
    }
   ],
   "source": [
    "# Visualizando o resultado\n",
    "display(res4)"
   ]
  },
  {
   "cell_type": "code",
   "execution_count": 50,
   "id": "a2def4aa",
   "metadata": {
    "ExecuteTime": {
     "end_time": "2022-06-11T17:42:52.547129Z",
     "start_time": "2022-06-11T17:42:52.435104Z"
    }
   },
   "outputs": [],
   "source": [
    "# Calculando a mediana ao longo dos anos\n",
    "ratings = []\n",
    "for year in set(res4['premiered']):\n",
    "    ratings.append(np.median(res4[res4['premiered'] == year]['Rating']))"
   ]
  },
  {
   "cell_type": "code",
   "execution_count": 51,
   "id": "a2e4c4a5",
   "metadata": {
    "ExecuteTime": {
     "end_time": "2022-06-11T17:42:53.885972Z",
     "start_time": "2022-06-11T17:42:53.881979Z"
    },
    "scrolled": true
   },
   "outputs": [
    {
     "data": {
      "text/plain": [
       "[6.2, 4.5, 3.85, 5.85, 6.2, 3.4, 4.6, 5.3, 4.5, 3.6]"
      ]
     },
     "execution_count": 51,
     "metadata": {},
     "output_type": "execute_result"
    }
   ],
   "source": [
    "# Visualizando parte da lista de ratings\n",
    "ratings[:10]"
   ]
  },
  {
   "cell_type": "code",
   "execution_count": 52,
   "id": "7be2019c",
   "metadata": {
    "ExecuteTime": {
     "end_time": "2022-06-11T17:42:56.506547Z",
     "start_time": "2022-06-11T17:42:56.479752Z"
    }
   },
   "outputs": [
    {
     "data": {
      "text/plain": [
       "[1896, 1897, 1899, 1900, 1901, 1902, 1903, 1904, 1905, 1906]"
      ]
     },
     "execution_count": 52,
     "metadata": {},
     "output_type": "execute_result"
    }
   ],
   "source": [
    "# Lista de Anos\n",
    "anos = list(set(res4['premiered']))\n",
    "anos[:10]"
   ]
  },
  {
   "cell_type": "code",
   "execution_count": 53,
   "id": "7293bb13",
   "metadata": {
    "ExecuteTime": {
     "end_time": "2022-06-11T17:42:59.961002Z",
     "start_time": "2022-06-11T17:42:59.858979Z"
    }
   },
   "outputs": [
    {
     "data": {
      "image/png": "[encoded data removed]",
      "text/plain": [
       "<Figure size 1152x576 with 1 Axes>"
      ]
     },
     "metadata": {
      "needs_background": "light"
     },
     "output_type": "display_data"
    }
   ],
   "source": [
    "# Criando e visualizando o gráfico\n",
    "plt.figure(figsize=(16,8))\n",
    "plt.plot(anos, ratings)\n",
    "plt.xlabel('\\nAno')\n",
    "plt.ylabel('Mediana de Avaliação')\n",
    "plt.title('\\nMediana de Avaliação dos Filmes Em Relação ao Ano de Estréia\\n')\n",
    "plt.show()"
   ]
  },
  {
   "cell_type": "markdown",
   "id": "2b4ec76e",
   "metadata": {},
   "source": [
    "### 5. Qual o número de filmes avaliados por gênero em relação ao ano de estréia?"
   ]
  },
  {
   "cell_type": "code",
   "execution_count": 54,
   "id": "f8bf15bd",
   "metadata": {
    "ExecuteTime": {
     "end_time": "2022-06-11T17:43:04.228950Z",
     "start_time": "2022-06-11T17:43:04.226950Z"
    }
   },
   "outputs": [],
   "source": [
    "# Consulta SQL\n",
    "con5 = '''SELECT genres from titles'''"
   ]
  },
  {
   "cell_type": "code",
   "execution_count": 55,
   "id": "c1f6b72b",
   "metadata": {
    "ExecuteTime": {
     "end_time": "2022-06-11T17:43:14.770855Z",
     "start_time": "2022-06-11T17:43:05.595951Z"
    }
   },
   "outputs": [],
   "source": [
    "# Resultado\n",
    "res5 = pd.read_sql_query(con5, conn)"
   ]
  },
  {
   "cell_type": "code",
   "execution_count": 56,
   "id": "879cc765",
   "metadata": {
    "ExecuteTime": {
     "end_time": "2022-06-11T17:43:14.776856Z",
     "start_time": "2022-06-11T17:43:14.771855Z"
    }
   },
   "outputs": [
    {
     "data": {
      "text/html": [
       "<div>\n",
       "<style scoped>\n",
       "    .dataframe tbody tr th:only-of-type {\n",
       "        vertical-align: middle;\n",
       "    }\n",
       "\n",
       "    .dataframe tbody tr th {\n",
       "        vertical-align: top;\n",
       "    }\n",
       "\n",
       "    .dataframe thead th {\n",
       "        text-align: right;\n",
       "    }\n",
       "</style>\n",
       "<table border=\"1\" class=\"dataframe\">\n",
       "  <thead>\n",
       "    <tr style=\"text-align: right;\">\n",
       "      <th></th>\n",
       "      <th>genres</th>\n",
       "    </tr>\n",
       "  </thead>\n",
       "  <tbody>\n",
       "    <tr>\n",
       "      <th>0</th>\n",
       "      <td>Documentary,Short</td>\n",
       "    </tr>\n",
       "    <tr>\n",
       "      <th>1</th>\n",
       "      <td>Animation,Short</td>\n",
       "    </tr>\n",
       "    <tr>\n",
       "      <th>2</th>\n",
       "      <td>Animation,Comedy,Romance</td>\n",
       "    </tr>\n",
       "    <tr>\n",
       "      <th>3</th>\n",
       "      <td>Animation,Short</td>\n",
       "    </tr>\n",
       "    <tr>\n",
       "      <th>4</th>\n",
       "      <td>Comedy,Short</td>\n",
       "    </tr>\n",
       "    <tr>\n",
       "      <th>...</th>\n",
       "      <td>...</td>\n",
       "    </tr>\n",
       "    <tr>\n",
       "      <th>8936767</th>\n",
       "      <td>Action,Drama,Family</td>\n",
       "    </tr>\n",
       "    <tr>\n",
       "      <th>8936768</th>\n",
       "      <td>Action,Drama,Family</td>\n",
       "    </tr>\n",
       "    <tr>\n",
       "      <th>8936769</th>\n",
       "      <td>Action,Drama,Family</td>\n",
       "    </tr>\n",
       "    <tr>\n",
       "      <th>8936770</th>\n",
       "      <td>Short</td>\n",
       "    </tr>\n",
       "    <tr>\n",
       "      <th>8936771</th>\n",
       "      <td>Adventure,Animation,Comedy</td>\n",
       "    </tr>\n",
       "  </tbody>\n",
       "</table>\n",
       "<p>8936772 rows × 1 columns</p>\n",
       "</div>"
      ],
      "text/plain": [
       "                             genres\n",
       "0                 Documentary,Short\n",
       "1                   Animation,Short\n",
       "2          Animation,Comedy,Romance\n",
       "3                   Animation,Short\n",
       "4                      Comedy,Short\n",
       "...                             ...\n",
       "8936767         Action,Drama,Family\n",
       "8936768         Action,Drama,Family\n",
       "8936769         Action,Drama,Family\n",
       "8936770                       Short\n",
       "8936771  Adventure,Animation,Comedy\n",
       "\n",
       "[8936772 rows x 1 columns]"
      ]
     },
     "metadata": {},
     "output_type": "display_data"
    }
   ],
   "source": [
    "# Visualizando\n",
    "display(res5)"
   ]
  },
  {
   "cell_type": "code",
   "execution_count": 57,
   "id": "bcbd58a6",
   "metadata": {
    "ExecuteTime": {
     "end_time": "2022-06-11T17:43:43.724318Z",
     "start_time": "2022-06-11T17:43:17.976816Z"
    }
   },
   "outputs": [],
   "source": [
    "# Retorna os gêneros únicos através da função criada anteriormente\n",
    "generos_unicos = retorna_generos(res5)"
   ]
  },
  {
   "cell_type": "code",
   "execution_count": 58,
   "id": "c2cecd22",
   "metadata": {
    "ExecuteTime": {
     "end_time": "2022-06-11T17:44:35.723966Z",
     "start_time": "2022-06-11T17:43:45.068043Z"
    }
   },
   "outputs": [],
   "source": [
    "# Fazendo a contagem de filmes avaliados por gênero\n",
    "genero_count = []\n",
    "for item in generos_unicos:\n",
    "    consulta = 'SELECT COUNT(*) COUNT FROM  titles  WHERE genres LIKE '+ '\\''+'%'+item+'%'+'\\' AND type=\\'movie\\' AND premiered <= 2022'\n",
    "    resultado = pd.read_sql_query(consulta, conn)\n",
    "    genero_count.append(resultado['COUNT'].values[0])"
   ]
  },
  {
   "cell_type": "code",
   "execution_count": 59,
   "id": "99bed93c",
   "metadata": {
    "ExecuteTime": {
     "end_time": "2022-06-11T17:44:38.779086Z",
     "start_time": "2022-06-11T17:44:38.776084Z"
    }
   },
   "outputs": [],
   "source": [
    "# Preparando o dataframe\n",
    "df_genero_count = pd.DataFrame()\n",
    "df_genero_count['genre'] = generos_unicos\n",
    "df_genero_count['count'] = genero_count"
   ]
  },
  {
   "cell_type": "code",
   "execution_count": 60,
   "id": "772436f8",
   "metadata": {
    "ExecuteTime": {
     "end_time": "2022-06-11T17:44:48.333043Z",
     "start_time": "2022-06-11T17:44:48.327041Z"
    }
   },
   "outputs": [],
   "source": [
    "# Calculando somente o top 5\n",
    "df_genero_count = df_genero_count[df_genero_count['genre'] != 'n']\n",
    "df_genero_count = df_genero_count.sort_values(by='count', ascending=False)\n",
    "top_generos = df_genero_count.head()['genre'].values"
   ]
  },
  {
   "cell_type": "code",
   "execution_count": 61,
   "id": "18c6928f",
   "metadata": {
    "ExecuteTime": {
     "end_time": "2022-06-11T17:44:53.653954Z",
     "start_time": "2022-06-11T17:44:49.095964Z"
    }
   },
   "outputs": [
    {
     "data": {
      "image/png": "[encoded data removed]",
      "text/plain": [
       "<Figure size 1152x576 with 1 Axes>"
      ]
     },
     "metadata": {
      "needs_background": "light"
     },
     "output_type": "display_data"
    }
   ],
   "source": [
    "# Criando e visualizando o gráfico\n",
    "plt.figure(figsize=(16,8))\n",
    "\n",
    "# Loop e Plot\n",
    "for item in top_generos:\n",
    "    consulta = 'SELECT COUNT(*) Number_of_movies, premiered Year FROM  titles  WHERE genres LIKE '+ '\\''+'%'+item+'%'+'\\' AND type=\\'movie\\' AND Year <=2022 GROUP BY Year'\n",
    "    resultado = pd.read_sql_query(consulta, conn)\n",
    "    plt.plot(resultado['Year'], resultado['Number_of_movies'])\n",
    "\n",
    "plt.xlabel('\\nAno')\n",
    "plt.ylabel('Número de Filmes Avaliados')\n",
    "plt.title('\\nNúmero de Filmes Avaliados Por Gênero Em Relação ao Ano de Estréia\\n')\n",
    "plt.legend(labels = top_generos)\n",
    "plt.show()"
   ]
  },
  {
   "cell_type": "markdown",
   "id": "23243d87",
   "metadata": {},
   "source": [
    "### 6. Qual o filme com maior tempo de duração?"
   ]
  },
  {
   "cell_type": "code",
   "execution_count": 62,
   "id": "bcc17675",
   "metadata": {
    "ExecuteTime": {
     "end_time": "2022-06-11T17:45:06.868936Z",
     "start_time": "2022-06-11T17:45:06.866932Z"
    }
   },
   "outputs": [],
   "source": [
    "# Consulta\n",
    "con6 = '''\n",
    "       SELECT runtime_minutes AS Runtime, primary_title\n",
    "       FROM titles\n",
    "       WHERE type = 'movie' AND Runtime != 'NaN'\n",
    "       ORDER BY Runtime DESC\n",
    "       LIMIT 1\n",
    "       '''"
   ]
  },
  {
   "cell_type": "code",
   "execution_count": 63,
   "id": "eb7b1ae2",
   "metadata": {
    "ExecuteTime": {
     "end_time": "2022-06-11T17:45:08.808948Z",
     "start_time": "2022-06-11T17:45:07.983754Z"
    }
   },
   "outputs": [],
   "source": [
    "# Resultado\n",
    "res6 = pd.read_sql_query(con6, conn)"
   ]
  },
  {
   "cell_type": "code",
   "execution_count": 64,
   "id": "ee3212cc",
   "metadata": {
    "ExecuteTime": {
     "end_time": "2022-06-11T17:45:10.695241Z",
     "start_time": "2022-06-11T17:45:10.690237Z"
    }
   },
   "outputs": [
    {
     "data": {
      "text/html": [
       "<div>\n",
       "<style scoped>\n",
       "    .dataframe tbody tr th:only-of-type {\n",
       "        vertical-align: middle;\n",
       "    }\n",
       "\n",
       "    .dataframe tbody tr th {\n",
       "        vertical-align: top;\n",
       "    }\n",
       "\n",
       "    .dataframe thead th {\n",
       "        text-align: right;\n",
       "    }\n",
       "</style>\n",
       "<table border=\"1\" class=\"dataframe\">\n",
       "  <thead>\n",
       "    <tr style=\"text-align: right;\">\n",
       "      <th></th>\n",
       "      <th>Runtime</th>\n",
       "      <th>primary_title</th>\n",
       "    </tr>\n",
       "  </thead>\n",
       "  <tbody>\n",
       "    <tr>\n",
       "      <th>0</th>\n",
       "      <td>51420</td>\n",
       "      <td>Logistics</td>\n",
       "    </tr>\n",
       "  </tbody>\n",
       "</table>\n",
       "</div>"
      ],
      "text/plain": [
       "   Runtime primary_title\n",
       "0    51420     Logistics"
      ]
     },
     "metadata": {},
     "output_type": "display_data"
    }
   ],
   "source": [
    "# Visualizando\n",
    "display(res6)"
   ]
  },
  {
   "cell_type": "markdown",
   "id": "199f884b",
   "metadata": {},
   "source": [
    "'Logistics' é o filme mais longo da história (até este momento), com 857 horas (51420 minutos)"
   ]
  },
  {
   "cell_type": "markdown",
   "id": "12cbc33c",
   "metadata": {},
   "source": [
    "### 7. Qual a relação entre duração e gênero?"
   ]
  },
  {
   "cell_type": "code",
   "execution_count": 65,
   "id": "cf826a19",
   "metadata": {
    "ExecuteTime": {
     "end_time": "2022-06-11T17:45:20.655933Z",
     "start_time": "2022-06-11T17:45:20.652932Z"
    }
   },
   "outputs": [],
   "source": [
    "# Consulta SQL\n",
    "con7 = '''\n",
    "       SELECT AVG(runtime_minutes), genres\n",
    "       FROM titles\n",
    "       WHERE type = 'movie'\n",
    "       AND runtime_minutes != 'NaN'\n",
    "       GROUP BY genres\n",
    "       '''"
   ]
  },
  {
   "cell_type": "code",
   "execution_count": 66,
   "id": "b4dc2c5f",
   "metadata": {
    "ExecuteTime": {
     "end_time": "2022-06-11T17:45:25.774702Z",
     "start_time": "2022-06-11T17:45:24.700459Z"
    }
   },
   "outputs": [],
   "source": [
    "# Resultado\n",
    "res7 = pd.read_sql_query(con7, conn)"
   ]
  },
  {
   "cell_type": "code",
   "execution_count": 67,
   "id": "ad232377",
   "metadata": {
    "ExecuteTime": {
     "end_time": "2022-06-11T17:45:26.414268Z",
     "start_time": "2022-06-11T17:45:26.408267Z"
    }
   },
   "outputs": [
    {
     "data": {
      "text/html": [
       "<div>\n",
       "<style scoped>\n",
       "    .dataframe tbody tr th:only-of-type {\n",
       "        vertical-align: middle;\n",
       "    }\n",
       "\n",
       "    .dataframe tbody tr th {\n",
       "        vertical-align: top;\n",
       "    }\n",
       "\n",
       "    .dataframe thead th {\n",
       "        text-align: right;\n",
       "    }\n",
       "</style>\n",
       "<table border=\"1\" class=\"dataframe\">\n",
       "  <thead>\n",
       "    <tr style=\"text-align: right;\">\n",
       "      <th></th>\n",
       "      <th>AVG(runtime_minutes)</th>\n",
       "      <th>genres</th>\n",
       "    </tr>\n",
       "  </thead>\n",
       "  <tbody>\n",
       "    <tr>\n",
       "      <th>0</th>\n",
       "      <td>99.382494</td>\n",
       "      <td>Action</td>\n",
       "    </tr>\n",
       "    <tr>\n",
       "      <th>1</th>\n",
       "      <td>77.000000</td>\n",
       "      <td>Action,Adult</td>\n",
       "    </tr>\n",
       "    <tr>\n",
       "      <th>2</th>\n",
       "      <td>69.000000</td>\n",
       "      <td>Action,Adult,Adventure</td>\n",
       "    </tr>\n",
       "    <tr>\n",
       "      <th>3</th>\n",
       "      <td>74.000000</td>\n",
       "      <td>Action,Adult,Comedy</td>\n",
       "    </tr>\n",
       "    <tr>\n",
       "      <th>4</th>\n",
       "      <td>84.666667</td>\n",
       "      <td>Action,Adult,Crime</td>\n",
       "    </tr>\n",
       "    <tr>\n",
       "      <th>...</th>\n",
       "      <td>...</td>\n",
       "      <td>...</td>\n",
       "    </tr>\n",
       "    <tr>\n",
       "      <th>1371</th>\n",
       "      <td>93.928571</td>\n",
       "      <td>Thriller,Western</td>\n",
       "    </tr>\n",
       "    <tr>\n",
       "      <th>1372</th>\n",
       "      <td>94.028007</td>\n",
       "      <td>War</td>\n",
       "    </tr>\n",
       "    <tr>\n",
       "      <th>1373</th>\n",
       "      <td>90.000000</td>\n",
       "      <td>War,Western</td>\n",
       "    </tr>\n",
       "    <tr>\n",
       "      <th>1374</th>\n",
       "      <td>70.116722</td>\n",
       "      <td>Western</td>\n",
       "    </tr>\n",
       "    <tr>\n",
       "      <th>1375</th>\n",
       "      <td>82.400076</td>\n",
       "      <td>\\N</td>\n",
       "    </tr>\n",
       "  </tbody>\n",
       "</table>\n",
       "<p>1376 rows × 2 columns</p>\n",
       "</div>"
      ],
      "text/plain": [
       "      AVG(runtime_minutes)                  genres\n",
       "0                99.382494                  Action\n",
       "1                77.000000            Action,Adult\n",
       "2                69.000000  Action,Adult,Adventure\n",
       "3                74.000000     Action,Adult,Comedy\n",
       "4                84.666667      Action,Adult,Crime\n",
       "...                    ...                     ...\n",
       "1371             93.928571        Thriller,Western\n",
       "1372             94.028007                     War\n",
       "1373             90.000000             War,Western\n",
       "1374             70.116722                 Western\n",
       "1375             82.400076                      \\N\n",
       "\n",
       "[1376 rows x 2 columns]"
      ]
     },
     "metadata": {},
     "output_type": "display_data"
    }
   ],
   "source": [
    "# Visualiza\n",
    "display(res7)"
   ]
  },
  {
   "cell_type": "code",
   "execution_count": 68,
   "id": "2c3cbf44",
   "metadata": {
    "ExecuteTime": {
     "end_time": "2022-06-11T17:45:28.490292Z",
     "start_time": "2022-06-11T17:45:28.482290Z"
    }
   },
   "outputs": [],
   "source": [
    "# Queremos somente os gêneros únicos, então usamos a função já criada\n",
    "generos_unicos = retorna_generos(res7)"
   ]
  },
  {
   "cell_type": "code",
   "execution_count": 69,
   "id": "448e4b29",
   "metadata": {
    "ExecuteTime": {
     "end_time": "2022-06-11T17:46:02.098465Z",
     "start_time": "2022-06-11T17:45:30.457674Z"
    }
   },
   "outputs": [],
   "source": [
    "# Calculando a mediana de duração por gênero\n",
    "genero_runtime = []\n",
    "for item in generos_unicos:\n",
    "    consulta = 'SELECT runtime_minutes Runtime FROM  titles  WHERE genres LIKE '+ '\\''+'%'+item+'%'+'\\' AND type=\\'movie\\' AND Runtime!=\\'NaN\\''\n",
    "    resultado = pd.read_sql_query(consulta, conn)\n",
    "    genero_runtime.append(np.median(resultado['Runtime']))"
   ]
  },
  {
   "cell_type": "code",
   "execution_count": 70,
   "id": "e0fdcdc6",
   "metadata": {
    "ExecuteTime": {
     "end_time": "2022-06-11T17:46:04.430054Z",
     "start_time": "2022-06-11T17:46:04.426053Z"
    }
   },
   "outputs": [],
   "source": [
    "# Criando e preparando o dataframe\n",
    "df_genero_runtime = pd.DataFrame()\n",
    "df_genero_runtime['genre'] = generos_unicos\n",
    "df_genero_runtime['runtime'] = genero_runtime"
   ]
  },
  {
   "cell_type": "code",
   "execution_count": 71,
   "id": "c3f6f3f6",
   "metadata": {
    "ExecuteTime": {
     "end_time": "2022-06-11T17:46:05.567044Z",
     "start_time": "2022-06-11T17:46:05.561043Z"
    }
   },
   "outputs": [
    {
     "data": {
      "text/html": [
       "<div>\n",
       "<style scoped>\n",
       "    .dataframe tbody tr th:only-of-type {\n",
       "        vertical-align: middle;\n",
       "    }\n",
       "\n",
       "    .dataframe tbody tr th {\n",
       "        vertical-align: top;\n",
       "    }\n",
       "\n",
       "    .dataframe thead th {\n",
       "        text-align: right;\n",
       "    }\n",
       "</style>\n",
       "<table border=\"1\" class=\"dataframe\">\n",
       "  <thead>\n",
       "    <tr style=\"text-align: right;\">\n",
       "      <th></th>\n",
       "      <th>genre</th>\n",
       "      <th>runtime</th>\n",
       "    </tr>\n",
       "  </thead>\n",
       "  <tbody>\n",
       "    <tr>\n",
       "      <th>0</th>\n",
       "      <td>action</td>\n",
       "      <td>94.0</td>\n",
       "    </tr>\n",
       "    <tr>\n",
       "      <th>1</th>\n",
       "      <td>adult</td>\n",
       "      <td>78.0</td>\n",
       "    </tr>\n",
       "    <tr>\n",
       "      <th>2</th>\n",
       "      <td>adventure</td>\n",
       "      <td>90.0</td>\n",
       "    </tr>\n",
       "    <tr>\n",
       "      <th>3</th>\n",
       "      <td>animation</td>\n",
       "      <td>81.0</td>\n",
       "    </tr>\n",
       "    <tr>\n",
       "      <th>4</th>\n",
       "      <td>biography</td>\n",
       "      <td>87.0</td>\n",
       "    </tr>\n",
       "    <tr>\n",
       "      <th>5</th>\n",
       "      <td>comedy</td>\n",
       "      <td>91.0</td>\n",
       "    </tr>\n",
       "    <tr>\n",
       "      <th>6</th>\n",
       "      <td>crime</td>\n",
       "      <td>92.0</td>\n",
       "    </tr>\n",
       "    <tr>\n",
       "      <th>7</th>\n",
       "      <td>documentary</td>\n",
       "      <td>74.0</td>\n",
       "    </tr>\n",
       "    <tr>\n",
       "      <th>8</th>\n",
       "      <td>drama</td>\n",
       "      <td>93.0</td>\n",
       "    </tr>\n",
       "    <tr>\n",
       "      <th>9</th>\n",
       "      <td>family</td>\n",
       "      <td>89.0</td>\n",
       "    </tr>\n",
       "    <tr>\n",
       "      <th>10</th>\n",
       "      <td>fantasy</td>\n",
       "      <td>90.0</td>\n",
       "    </tr>\n",
       "    <tr>\n",
       "      <th>11</th>\n",
       "      <td>film-noir</td>\n",
       "      <td>83.0</td>\n",
       "    </tr>\n",
       "    <tr>\n",
       "      <th>12</th>\n",
       "      <td>game-show</td>\n",
       "      <td>57.5</td>\n",
       "    </tr>\n",
       "    <tr>\n",
       "      <th>13</th>\n",
       "      <td>history</td>\n",
       "      <td>90.0</td>\n",
       "    </tr>\n",
       "    <tr>\n",
       "      <th>14</th>\n",
       "      <td>horror</td>\n",
       "      <td>88.0</td>\n",
       "    </tr>\n",
       "    <tr>\n",
       "      <th>15</th>\n",
       "      <td>music</td>\n",
       "      <td>90.0</td>\n",
       "    </tr>\n",
       "    <tr>\n",
       "      <th>16</th>\n",
       "      <td>musical</td>\n",
       "      <td>93.0</td>\n",
       "    </tr>\n",
       "    <tr>\n",
       "      <th>17</th>\n",
       "      <td>mystery</td>\n",
       "      <td>91.0</td>\n",
       "    </tr>\n",
       "    <tr>\n",
       "      <th>18</th>\n",
       "      <td>news</td>\n",
       "      <td>75.0</td>\n",
       "    </tr>\n",
       "    <tr>\n",
       "      <th>19</th>\n",
       "      <td>reality-tv</td>\n",
       "      <td>90.0</td>\n",
       "    </tr>\n",
       "  </tbody>\n",
       "</table>\n",
       "</div>"
      ],
      "text/plain": [
       "          genre  runtime\n",
       "0        action     94.0\n",
       "1         adult     78.0\n",
       "2     adventure     90.0\n",
       "3     animation     81.0\n",
       "4     biography     87.0\n",
       "5        comedy     91.0\n",
       "6         crime     92.0\n",
       "7   documentary     74.0\n",
       "8         drama     93.0\n",
       "9        family     89.0\n",
       "10      fantasy     90.0\n",
       "11    film-noir     83.0\n",
       "12    game-show     57.5\n",
       "13      history     90.0\n",
       "14       horror     88.0\n",
       "15        music     90.0\n",
       "16      musical     93.0\n",
       "17      mystery     91.0\n",
       "18         news     75.0\n",
       "19   reality-tv     90.0"
      ]
     },
     "execution_count": 71,
     "metadata": {},
     "output_type": "execute_result"
    }
   ],
   "source": [
    "df_genero_runtime.head(20)"
   ]
  },
  {
   "cell_type": "code",
   "execution_count": 72,
   "id": "c03e8908",
   "metadata": {
    "ExecuteTime": {
     "end_time": "2022-06-11T17:46:06.767045Z",
     "start_time": "2022-06-11T17:46:06.763044Z"
    }
   },
   "outputs": [],
   "source": [
    "# Removendo o gênero news\n",
    "df_genero_runtime = df_genero_runtime.drop(index = 18)"
   ]
  },
  {
   "cell_type": "code",
   "execution_count": 73,
   "id": "979fcf42",
   "metadata": {
    "ExecuteTime": {
     "end_time": "2022-06-11T17:46:08.464948Z",
     "start_time": "2022-06-11T17:46:08.460948Z"
    }
   },
   "outputs": [],
   "source": [
    "# Ordenando os dados\n",
    "df_genero_runtime = df_genero_runtime.sort_values(by='runtime', ascending=False)"
   ]
  },
  {
   "cell_type": "code",
   "execution_count": 74,
   "id": "d73b000f",
   "metadata": {
    "ExecuteTime": {
     "end_time": "2022-06-11T17:46:09.529079Z",
     "start_time": "2022-06-11T17:46:09.279030Z"
    }
   },
   "outputs": [
    {
     "data": {
      "image/png": "[encoded data removed]",
      "text/plain": [
       "<Figure size 1152x576 with 1 Axes>"
      ]
     },
     "metadata": {
      "needs_background": "light"
     },
     "output_type": "display_data"
    }
   ],
   "source": [
    "# Criando e visualizando o gráfico\n",
    "plt.figure(figsize=(16,8))\n",
    "sns.barplot(y = df_genero_runtime.genre, x=df_genero_runtime.runtime, orient='h')\n",
    "\n",
    "# Loop\n",
    "for i in range(len(df_genero_runtime.index)):\n",
    "    plt.text(df_genero_runtime.runtime[df_genero_runtime.index[i]],\n",
    "             i + 0.25,\n",
    "             round(df_genero_runtime['runtime'][df_genero_runtime.index[i]], 2))\n",
    "\n",
    "plt.ylabel('Gênero')             \n",
    "plt.xlabel('\\nMediana de Tempo de Duração (Minutos)')\n",
    "plt.title('\\nRelação Entre Duração e Gênero\\n')\n",
    "plt.show()"
   ]
  },
  {
   "cell_type": "markdown",
   "id": "151b2dd2",
   "metadata": {},
   "source": [
    "### 8. Qual o número de filmes produzidos por país?"
   ]
  },
  {
   "cell_type": "code",
   "execution_count": 75,
   "id": "fb78c0df",
   "metadata": {
    "ExecuteTime": {
     "end_time": "2022-06-11T17:46:16.544873Z",
     "start_time": "2022-06-11T17:46:16.542864Z"
    }
   },
   "outputs": [],
   "source": [
    "# Consulta SQL\n",
    "con8 = '''\n",
    "       SELECT region, COUNT(*) Number_of_movies FROM\n",
    "       akas JOIN titles ON\n",
    "       akas.title_id = titles.title_id\n",
    "       WHERE region != 'None'\n",
    "       AND type = \\'movie\\'\n",
    "       GROUP BY region\n",
    "       '''"
   ]
  },
  {
   "cell_type": "code",
   "execution_count": 76,
   "id": "58c695c8",
   "metadata": {
    "ExecuteTime": {
     "end_time": "2022-06-11T17:47:30.293654Z",
     "start_time": "2022-06-11T17:46:17.679785Z"
    }
   },
   "outputs": [],
   "source": [
    "# Resultado\n",
    "res8 = pd.read_sql_query(con8, conn)"
   ]
  },
  {
   "cell_type": "code",
   "execution_count": 77,
   "id": "fdec2773",
   "metadata": {
    "ExecuteTime": {
     "end_time": "2022-06-11T17:47:34.842948Z",
     "start_time": "2022-06-11T17:47:34.837955Z"
    }
   },
   "outputs": [
    {
     "data": {
      "text/html": [
       "<div>\n",
       "<style scoped>\n",
       "    .dataframe tbody tr th:only-of-type {\n",
       "        vertical-align: middle;\n",
       "    }\n",
       "\n",
       "    .dataframe tbody tr th {\n",
       "        vertical-align: top;\n",
       "    }\n",
       "\n",
       "    .dataframe thead th {\n",
       "        text-align: right;\n",
       "    }\n",
       "</style>\n",
       "<table border=\"1\" class=\"dataframe\">\n",
       "  <thead>\n",
       "    <tr style=\"text-align: right;\">\n",
       "      <th></th>\n",
       "      <th>region</th>\n",
       "      <th>Number_of_movies</th>\n",
       "    </tr>\n",
       "  </thead>\n",
       "  <tbody>\n",
       "    <tr>\n",
       "      <th>0</th>\n",
       "      <td>AD</td>\n",
       "      <td>22</td>\n",
       "    </tr>\n",
       "    <tr>\n",
       "      <th>1</th>\n",
       "      <td>AE</td>\n",
       "      <td>6628</td>\n",
       "    </tr>\n",
       "    <tr>\n",
       "      <th>2</th>\n",
       "      <td>AF</td>\n",
       "      <td>113</td>\n",
       "    </tr>\n",
       "    <tr>\n",
       "      <th>3</th>\n",
       "      <td>AG</td>\n",
       "      <td>12</td>\n",
       "    </tr>\n",
       "    <tr>\n",
       "      <th>4</th>\n",
       "      <td>AL</td>\n",
       "      <td>1287</td>\n",
       "    </tr>\n",
       "    <tr>\n",
       "      <th>...</th>\n",
       "      <td>...</td>\n",
       "      <td>...</td>\n",
       "    </tr>\n",
       "    <tr>\n",
       "      <th>229</th>\n",
       "      <td>YUCS</td>\n",
       "      <td>154</td>\n",
       "    </tr>\n",
       "    <tr>\n",
       "      <th>230</th>\n",
       "      <td>ZA</td>\n",
       "      <td>3267</td>\n",
       "    </tr>\n",
       "    <tr>\n",
       "      <th>231</th>\n",
       "      <td>ZM</td>\n",
       "      <td>15</td>\n",
       "    </tr>\n",
       "    <tr>\n",
       "      <th>232</th>\n",
       "      <td>ZRCD</td>\n",
       "      <td>2</td>\n",
       "    </tr>\n",
       "    <tr>\n",
       "      <th>233</th>\n",
       "      <td>ZW</td>\n",
       "      <td>51</td>\n",
       "    </tr>\n",
       "  </tbody>\n",
       "</table>\n",
       "<p>234 rows × 2 columns</p>\n",
       "</div>"
      ],
      "text/plain": [
       "    region  Number_of_movies\n",
       "0       AD                22\n",
       "1       AE              6628\n",
       "2       AF               113\n",
       "3       AG                12\n",
       "4       AL              1287\n",
       "..     ...               ...\n",
       "229   YUCS               154\n",
       "230     ZA              3267\n",
       "231     ZM                15\n",
       "232   ZRCD                 2\n",
       "233     ZW                51\n",
       "\n",
       "[234 rows x 2 columns]"
      ]
     },
     "metadata": {},
     "output_type": "display_data"
    }
   ],
   "source": [
    "# Visualizando\n",
    "display(res8)"
   ]
  },
  {
   "cell_type": "code",
   "execution_count": 78,
   "id": "3dcff9d1",
   "metadata": {
    "ExecuteTime": {
     "end_time": "2022-06-11T17:47:35.974952Z",
     "start_time": "2022-06-11T17:47:35.971952Z"
    }
   },
   "outputs": [],
   "source": [
    "# Listas auxiliares para obter o nome de países e contagem de filme por paíse\n",
    "nomes_paises = []\n",
    "contagem = []"
   ]
  },
  {
   "cell_type": "code",
   "execution_count": 79,
   "id": "889fc9f0",
   "metadata": {
    "ExecuteTime": {
     "end_time": "2022-06-11T17:47:37.203940Z",
     "start_time": "2022-06-11T17:47:37.195938Z"
    }
   },
   "outputs": [],
   "source": [
    "# Loop para obter o país de acordo com a região\n",
    "for i in range(res8.shape[0]):\n",
    "    try:\n",
    "        coun = res8['region'].values[i]\n",
    "        nomes_paises.append(pycountry.countries.get(alpha_2 = coun).name)\n",
    "        contagem.append(res8['Number_of_movies'].values[i])\n",
    "    except: \n",
    "        continue"
   ]
  },
  {
   "cell_type": "code",
   "execution_count": 80,
   "id": "aeb36ca3",
   "metadata": {
    "ExecuteTime": {
     "end_time": "2022-06-11T17:47:38.302061Z",
     "start_time": "2022-06-11T17:47:38.299061Z"
    }
   },
   "outputs": [],
   "source": [
    "# Criando e preparando o dataframe\n",
    "df_filmes_paises = pd.DataFrame()\n",
    "df_filmes_paises['country'] = nomes_paises\n",
    "df_filmes_paises['movie_count'] = contagem"
   ]
  },
  {
   "cell_type": "code",
   "execution_count": 81,
   "id": "4a9cbc09",
   "metadata": {
    "ExecuteTime": {
     "end_time": "2022-06-11T17:47:39.415797Z",
     "start_time": "2022-06-11T17:47:39.411787Z"
    }
   },
   "outputs": [],
   "source": [
    "# Ordenando o resultado\n",
    "df_filmes_paises =df_filmes_paises.sort_values(by='movie_count', ascending=False)"
   ]
  },
  {
   "cell_type": "code",
   "execution_count": 82,
   "id": "7c955c15",
   "metadata": {
    "ExecuteTime": {
     "end_time": "2022-06-11T17:47:40.535671Z",
     "start_time": "2022-06-11T17:47:40.530671Z"
    }
   },
   "outputs": [
    {
     "data": {
      "text/html": [
       "<div>\n",
       "<style scoped>\n",
       "    .dataframe tbody tr th:only-of-type {\n",
       "        vertical-align: middle;\n",
       "    }\n",
       "\n",
       "    .dataframe tbody tr th {\n",
       "        vertical-align: top;\n",
       "    }\n",
       "\n",
       "    .dataframe thead th {\n",
       "        text-align: right;\n",
       "    }\n",
       "</style>\n",
       "<table border=\"1\" class=\"dataframe\">\n",
       "  <thead>\n",
       "    <tr style=\"text-align: right;\">\n",
       "      <th></th>\n",
       "      <th>country</th>\n",
       "      <th>movie_count</th>\n",
       "    </tr>\n",
       "  </thead>\n",
       "  <tbody>\n",
       "    <tr>\n",
       "      <th>199</th>\n",
       "      <td>United States</td>\n",
       "      <td>312102</td>\n",
       "    </tr>\n",
       "    <tr>\n",
       "      <th>65</th>\n",
       "      <td>United Kingdom</td>\n",
       "      <td>159788</td>\n",
       "    </tr>\n",
       "    <tr>\n",
       "      <th>96</th>\n",
       "      <td>Japan</td>\n",
       "      <td>91582</td>\n",
       "    </tr>\n",
       "    <tr>\n",
       "      <th>63</th>\n",
       "      <td>France</td>\n",
       "      <td>85031</td>\n",
       "    </tr>\n",
       "    <tr>\n",
       "      <th>89</th>\n",
       "      <td>India</td>\n",
       "      <td>81837</td>\n",
       "    </tr>\n",
       "    <tr>\n",
       "      <th>32</th>\n",
       "      <td>Canada</td>\n",
       "      <td>78495</td>\n",
       "    </tr>\n",
       "    <tr>\n",
       "      <th>47</th>\n",
       "      <td>Germany</td>\n",
       "      <td>71131</td>\n",
       "    </tr>\n",
       "    <tr>\n",
       "      <th>58</th>\n",
       "      <td>Spain</td>\n",
       "      <td>65809</td>\n",
       "    </tr>\n",
       "    <tr>\n",
       "      <th>26</th>\n",
       "      <td>Brazil</td>\n",
       "      <td>65764</td>\n",
       "    </tr>\n",
       "    <tr>\n",
       "      <th>93</th>\n",
       "      <td>Italy</td>\n",
       "      <td>65677</td>\n",
       "    </tr>\n",
       "  </tbody>\n",
       "</table>\n",
       "</div>"
      ],
      "text/plain": [
       "            country  movie_count\n",
       "199   United States       312102\n",
       "65   United Kingdom       159788\n",
       "96            Japan        91582\n",
       "63           France        85031\n",
       "89            India        81837\n",
       "32           Canada        78495\n",
       "47          Germany        71131\n",
       "58            Spain        65809\n",
       "26           Brazil        65764\n",
       "93            Italy        65677"
      ]
     },
     "execution_count": 82,
     "metadata": {},
     "output_type": "execute_result"
    }
   ],
   "source": [
    "# Visualizando os 10 primeiros\n",
    "df_filmes_paises.head(10)"
   ]
  },
  {
   "cell_type": "code",
   "execution_count": 83,
   "id": "10d2d71b",
   "metadata": {
    "ExecuteTime": {
     "end_time": "2022-06-11T17:47:42.183989Z",
     "start_time": "2022-06-11T17:47:41.988945Z"
    }
   },
   "outputs": [
    {
     "data": {
      "image/png": "[encoded data removed]",
      "text/plain": [
       "<Figure size 1440x576 with 1 Axes>"
      ]
     },
     "metadata": {
      "needs_background": "light"
     },
     "output_type": "display_data"
    }
   ],
   "source": [
    "# Criando e visualizando o gráfico\n",
    "plt.figure(figsize=(20,8))\n",
    "sns.barplot(y = df_filmes_paises[:20].country, x = df_filmes_paises[:20].movie_count, orient='h')\n",
    "\n",
    "# Loop\n",
    "for i in range(0,20):\n",
    "    plt.text(df_filmes_paises.movie_count[df_filmes_paises.index[i]]-1,\n",
    "             i + 0.30,\n",
    "             round(df_filmes_paises['movie_count'][df_filmes_paises.index[i]],2))\n",
    "\n",
    "plt.ylabel('País')             \n",
    "plt.xlabel('\\nNúmero de Filmes')\n",
    "plt.title('\\nNúmero de Filmes Produzidos Por País\\n')\n",
    "plt.show()"
   ]
  },
  {
   "cell_type": "markdown",
   "id": "d0ae0faf",
   "metadata": {},
   "source": [
    "### 9. Quais são os 10 melhores filmes?"
   ]
  },
  {
   "cell_type": "code",
   "execution_count": 84,
   "id": "0ef1a4d3",
   "metadata": {
    "ExecuteTime": {
     "end_time": "2022-06-11T17:47:46.649953Z",
     "start_time": "2022-06-11T17:47:46.645953Z"
    }
   },
   "outputs": [],
   "source": [
    "# Consulta SQL - Filmes somente com mais de 25000 avaliações\n",
    "con9 = '''\n",
    "       SELECT primary_title AS movie_name, genres, rating\n",
    "       FROM titles JOIN ratings\n",
    "       ON titles.title_id = ratings.title_id\n",
    "       WHERE titles.type = 'movie' AND ratings.votes >= 25000\n",
    "       ORDER BY rating DESC\n",
    "       LIMIT 10\n",
    "       '''"
   ]
  },
  {
   "cell_type": "code",
   "execution_count": 85,
   "id": "62420823",
   "metadata": {
    "ExecuteTime": {
     "end_time": "2022-06-11T17:47:59.072932Z",
     "start_time": "2022-06-11T17:47:47.526969Z"
    }
   },
   "outputs": [],
   "source": [
    "# Resultado\n",
    "res9 = pd.read_sql_query(con9, conn)"
   ]
  },
  {
   "cell_type": "code",
   "execution_count": 86,
   "id": "1a90ca04",
   "metadata": {
    "ExecuteTime": {
     "end_time": "2022-06-11T17:47:59.078934Z",
     "start_time": "2022-06-11T17:47:59.073933Z"
    }
   },
   "outputs": [
    {
     "data": {
      "text/html": [
       "<div>\n",
       "<style scoped>\n",
       "    .dataframe tbody tr th:only-of-type {\n",
       "        vertical-align: middle;\n",
       "    }\n",
       "\n",
       "    .dataframe tbody tr th {\n",
       "        vertical-align: top;\n",
       "    }\n",
       "\n",
       "    .dataframe thead th {\n",
       "        text-align: right;\n",
       "    }\n",
       "</style>\n",
       "<table border=\"1\" class=\"dataframe\">\n",
       "  <thead>\n",
       "    <tr style=\"text-align: right;\">\n",
       "      <th></th>\n",
       "      <th>movie_name</th>\n",
       "      <th>genres</th>\n",
       "      <th>rating</th>\n",
       "    </tr>\n",
       "  </thead>\n",
       "  <tbody>\n",
       "    <tr>\n",
       "      <th>0</th>\n",
       "      <td>The Shawshank Redemption</td>\n",
       "      <td>Drama</td>\n",
       "      <td>9.3</td>\n",
       "    </tr>\n",
       "    <tr>\n",
       "      <th>1</th>\n",
       "      <td>The Chaos Class</td>\n",
       "      <td>Comedy,Drama</td>\n",
       "      <td>9.3</td>\n",
       "    </tr>\n",
       "    <tr>\n",
       "      <th>2</th>\n",
       "      <td>The Godfather</td>\n",
       "      <td>Crime,Drama</td>\n",
       "      <td>9.2</td>\n",
       "    </tr>\n",
       "    <tr>\n",
       "      <th>3</th>\n",
       "      <td>CM101MMXI Fundamentals</td>\n",
       "      <td>Comedy,Documentary</td>\n",
       "      <td>9.1</td>\n",
       "    </tr>\n",
       "    <tr>\n",
       "      <th>4</th>\n",
       "      <td>12 Angry Men</td>\n",
       "      <td>Crime,Drama</td>\n",
       "      <td>9.0</td>\n",
       "    </tr>\n",
       "    <tr>\n",
       "      <th>5</th>\n",
       "      <td>The Godfather: Part II</td>\n",
       "      <td>Crime,Drama</td>\n",
       "      <td>9.0</td>\n",
       "    </tr>\n",
       "    <tr>\n",
       "      <th>6</th>\n",
       "      <td>Schindler's List</td>\n",
       "      <td>Biography,Drama,History</td>\n",
       "      <td>9.0</td>\n",
       "    </tr>\n",
       "    <tr>\n",
       "      <th>7</th>\n",
       "      <td>The Lord of the Rings: The Return of the King</td>\n",
       "      <td>Action,Adventure,Drama</td>\n",
       "      <td>9.0</td>\n",
       "    </tr>\n",
       "    <tr>\n",
       "      <th>8</th>\n",
       "      <td>The Dark Knight</td>\n",
       "      <td>Action,Crime,Drama</td>\n",
       "      <td>9.0</td>\n",
       "    </tr>\n",
       "    <tr>\n",
       "      <th>9</th>\n",
       "      <td>Mirror Game</td>\n",
       "      <td>Crime,Mystery,Thriller</td>\n",
       "      <td>9.0</td>\n",
       "    </tr>\n",
       "  </tbody>\n",
       "</table>\n",
       "</div>"
      ],
      "text/plain": [
       "                                      movie_name                   genres  \\\n",
       "0                       The Shawshank Redemption                    Drama   \n",
       "1                                The Chaos Class             Comedy,Drama   \n",
       "2                                  The Godfather              Crime,Drama   \n",
       "3                         CM101MMXI Fundamentals       Comedy,Documentary   \n",
       "4                                   12 Angry Men              Crime,Drama   \n",
       "5                         The Godfather: Part II              Crime,Drama   \n",
       "6                               Schindler's List  Biography,Drama,History   \n",
       "7  The Lord of the Rings: The Return of the King   Action,Adventure,Drama   \n",
       "8                                The Dark Knight       Action,Crime,Drama   \n",
       "9                                    Mirror Game   Crime,Mystery,Thriller   \n",
       "\n",
       "   rating  \n",
       "0     9.3  \n",
       "1     9.3  \n",
       "2     9.2  \n",
       "3     9.1  \n",
       "4     9.0  \n",
       "5     9.0  \n",
       "6     9.0  \n",
       "7     9.0  \n",
       "8     9.0  \n",
       "9     9.0  "
      ]
     },
     "metadata": {},
     "output_type": "display_data"
    }
   ],
   "source": [
    "# Visualizando o top 10\n",
    "display(res9)"
   ]
  },
  {
   "cell_type": "markdown",
   "id": "ccf70768",
   "metadata": {},
   "source": [
    "### 10. Quais são os 10 piores filmes?"
   ]
  },
  {
   "cell_type": "code",
   "execution_count": 87,
   "id": "3d72e4fc",
   "metadata": {
    "ExecuteTime": {
     "end_time": "2022-06-11T17:48:05.669940Z",
     "start_time": "2022-06-11T17:48:05.667946Z"
    }
   },
   "outputs": [],
   "source": [
    "# Consulta SQL - Filmes somente com mais de 25000 avaliações\n",
    "con10 = '''\n",
    "       SELECT primary_title AS movie_name, genres, rating\n",
    "       FROM titles JOIN ratings\n",
    "       ON titles.title_id = ratings.title_id\n",
    "       WHERE titles.type = 'movie' AND ratings.votes >= 25000\n",
    "       ORDER BY rating ASC\n",
    "       LIMIT 10\n",
    "       '''"
   ]
  },
  {
   "cell_type": "code",
   "execution_count": 88,
   "id": "d2ec1318",
   "metadata": {
    "ExecuteTime": {
     "end_time": "2022-06-11T17:48:17.365927Z",
     "start_time": "2022-06-11T17:48:06.002749Z"
    }
   },
   "outputs": [],
   "source": [
    "# Resultado\n",
    "res10 = pd.read_sql_query(con10, conn)"
   ]
  },
  {
   "cell_type": "code",
   "execution_count": 89,
   "id": "02f951eb",
   "metadata": {
    "ExecuteTime": {
     "end_time": "2022-06-11T17:48:17.371930Z",
     "start_time": "2022-06-11T17:48:17.366929Z"
    }
   },
   "outputs": [
    {
     "data": {
      "text/html": [
       "<div>\n",
       "<style scoped>\n",
       "    .dataframe tbody tr th:only-of-type {\n",
       "        vertical-align: middle;\n",
       "    }\n",
       "\n",
       "    .dataframe tbody tr th {\n",
       "        vertical-align: top;\n",
       "    }\n",
       "\n",
       "    .dataframe thead th {\n",
       "        text-align: right;\n",
       "    }\n",
       "</style>\n",
       "<table border=\"1\" class=\"dataframe\">\n",
       "  <thead>\n",
       "    <tr style=\"text-align: right;\">\n",
       "      <th></th>\n",
       "      <th>movie_name</th>\n",
       "      <th>genres</th>\n",
       "      <th>rating</th>\n",
       "    </tr>\n",
       "  </thead>\n",
       "  <tbody>\n",
       "    <tr>\n",
       "      <th>0</th>\n",
       "      <td>Reis</td>\n",
       "      <td>Biography,Drama</td>\n",
       "      <td>1.0</td>\n",
       "    </tr>\n",
       "    <tr>\n",
       "      <th>1</th>\n",
       "      <td>Cumali Ceber</td>\n",
       "      <td>Comedy</td>\n",
       "      <td>1.0</td>\n",
       "    </tr>\n",
       "    <tr>\n",
       "      <th>2</th>\n",
       "      <td>Sadak 2</td>\n",
       "      <td>Action,Drama</td>\n",
       "      <td>1.1</td>\n",
       "    </tr>\n",
       "    <tr>\n",
       "      <th>3</th>\n",
       "      <td>Smolensk</td>\n",
       "      <td>Drama,Thriller</td>\n",
       "      <td>1.2</td>\n",
       "    </tr>\n",
       "    <tr>\n",
       "      <th>4</th>\n",
       "      <td>Superbabies: Baby Geniuses 2</td>\n",
       "      <td>Comedy,Family,Sci-Fi</td>\n",
       "      <td>1.5</td>\n",
       "    </tr>\n",
       "    <tr>\n",
       "      <th>5</th>\n",
       "      <td>The Cost of Deception</td>\n",
       "      <td>Crime,Drama,History</td>\n",
       "      <td>1.5</td>\n",
       "    </tr>\n",
       "    <tr>\n",
       "      <th>6</th>\n",
       "      <td>Manos: The Hands of Fate</td>\n",
       "      <td>Horror</td>\n",
       "      <td>1.6</td>\n",
       "    </tr>\n",
       "    <tr>\n",
       "      <th>7</th>\n",
       "      <td>Justin Bieber: Never Say Never</td>\n",
       "      <td>Documentary,Music</td>\n",
       "      <td>1.6</td>\n",
       "    </tr>\n",
       "    <tr>\n",
       "      <th>8</th>\n",
       "      <td>From Justin to Kelly</td>\n",
       "      <td>Comedy,Musical,Romance</td>\n",
       "      <td>1.9</td>\n",
       "    </tr>\n",
       "    <tr>\n",
       "      <th>9</th>\n",
       "      <td>The Hottie &amp; the Nottie</td>\n",
       "      <td>Comedy,Romance</td>\n",
       "      <td>1.9</td>\n",
       "    </tr>\n",
       "  </tbody>\n",
       "</table>\n",
       "</div>"
      ],
      "text/plain": [
       "                       movie_name                  genres  rating\n",
       "0                            Reis         Biography,Drama     1.0\n",
       "1                    Cumali Ceber                  Comedy     1.0\n",
       "2                         Sadak 2            Action,Drama     1.1\n",
       "3                        Smolensk          Drama,Thriller     1.2\n",
       "4    Superbabies: Baby Geniuses 2    Comedy,Family,Sci-Fi     1.5\n",
       "5           The Cost of Deception     Crime,Drama,History     1.5\n",
       "6        Manos: The Hands of Fate                  Horror     1.6\n",
       "7  Justin Bieber: Never Say Never       Documentary,Music     1.6\n",
       "8            From Justin to Kelly  Comedy,Musical,Romance     1.9\n",
       "9         The Hottie & the Nottie          Comedy,Romance     1.9"
      ]
     },
     "metadata": {},
     "output_type": "display_data"
    }
   ],
   "source": [
    "# Visualizando o top 10\n",
    "display(res10)"
   ]
  }
 ],
 "metadata": {
  "kernelspec": {
   "display_name": "Python 3 (ipykernel)",
   "language": "python",
   "name": "python3"
  },
  "language_info": {
   "codemirror_mode": {
    "name": "ipython",
    "version": 3
   },
   "file_extension": ".py",
   "mimetype": "text/x-python",
   "name": "python",
   "nbconvert_exporter": "python",
   "pygments_lexer": "ipython3",
   "version": "3.9.7"
  }
 },
 "nbformat": 4,
 "nbformat_minor": 5
}
